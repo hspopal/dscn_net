{
 "cells": [
  {
   "cell_type": "markdown",
   "id": "e849d3dd-850e-46a8-b21b-35eccda406d8",
   "metadata": {},
   "source": [
    "# MRI QC Report\n",
    "\n",
    "**Author**: Haroon Popal"
   ]
  },
  {
   "cell_type": "markdown",
   "id": "c0143a78-6a9d-4f37-afb3-4d972e9776f5",
   "metadata": {},
   "source": [
    "This notebook will create the **participants.tsv** file in the BIDS format which will include the subject ID and demographic information for all participants with fmriprep data. The notebook will also create a second list of participants and their run data, **participants_good_SR.csv**, for the social reward task that meets quality control thresholds. Participants may be exluced for excessive motion and/or poor MRI run quality, or if there were issues with their task run data. "
   ]
  },
  {
   "cell_type": "code",
   "execution_count": 1,
   "id": "b9be1a58-d66b-413b-a3c8-dd2bab7cdf47",
   "metadata": {},
   "outputs": [],
   "source": [
    "import os\n",
    "import sys\n",
    "import glob\n",
    "import pandas as pd\n",
    "import numpy as np\n",
    "from datetime import datetime, date\n",
    "\n",
    "import seaborn as sns\n",
    "import matplotlib.pyplot as plt"
   ]
  },
  {
   "cell_type": "code",
   "execution_count": 2,
   "id": "0986a6bd-28dc-461b-852c-2b32dc7b1724",
   "metadata": {},
   "outputs": [],
   "source": [
    "proj_dir = '/Users/hpopal/Google Drive/My Drive/dscn_lab/projects/net/'\n",
    "#proj_dir = '/Users/haroonpopal/hpopal@umd.edu - Google Drive/My Drive/dscn_lab/projects/net/'\n",
    "\n",
    "os.chdir(proj_dir)"
   ]
  },
  {
   "cell_type": "markdown",
   "id": "21de697f",
   "metadata": {},
   "source": [
    "# BIDS Participants List"
   ]
  },
  {
   "cell_type": "markdown",
   "id": "c8a344be",
   "metadata": {},
   "source": [
    "## Import QC spreadsheet\n",
    "This spreadsheet is derived from the [SCN fMRI Master Log](https://docs.google.com/spreadsheets/d/1-MOW372sO0g1y9cKl1_GkhMunp0lgdst11etN7qmZvU/edit#gid=158950615) QC tab and contains information on all participants who were scanned, and the quality control reading each of their runs."
   ]
  },
  {
   "cell_type": "code",
   "execution_count": 3,
   "id": "79d5a472-113d-4a11-ae81-e96dc16a37a7",
   "metadata": {},
   "outputs": [
    {
     "data": {
      "text/html": [
       "<div>\n",
       "<style scoped>\n",
       "    .dataframe tbody tr th:only-of-type {\n",
       "        vertical-align: middle;\n",
       "    }\n",
       "\n",
       "    .dataframe tbody tr th {\n",
       "        vertical-align: top;\n",
       "    }\n",
       "\n",
       "    .dataframe thead th {\n",
       "        text-align: right;\n",
       "    }\n",
       "</style>\n",
       "<table border=\"1\" class=\"dataframe\">\n",
       "  <thead>\n",
       "    <tr style=\"text-align: right;\">\n",
       "      <th></th>\n",
       "      <th>Subject_ID</th>\n",
       "      <th>Run</th>\n",
       "      <th>MaxFD</th>\n",
       "      <th>MeanFD</th>\n",
       "      <th>SdFD</th>\n",
       "      <th>CensorPercent</th>\n",
       "      <th>Quality</th>\n",
       "      <th>Cerebellum</th>\n",
       "      <th>Notes</th>\n",
       "    </tr>\n",
       "  </thead>\n",
       "  <tbody>\n",
       "    <tr>\n",
       "      <th>0</th>\n",
       "      <td>sub-NET011</td>\n",
       "      <td>T1</td>\n",
       "      <td>NaN</td>\n",
       "      <td>NaN</td>\n",
       "      <td>NaN</td>\n",
       "      <td>NaN</td>\n",
       "      <td>good</td>\n",
       "      <td>yes</td>\n",
       "      <td>NaN</td>\n",
       "    </tr>\n",
       "    <tr>\n",
       "      <th>1</th>\n",
       "      <td>sub-NET011</td>\n",
       "      <td>run-1</td>\n",
       "      <td>0.550616</td>\n",
       "      <td>0.189526</td>\n",
       "      <td>0.079709</td>\n",
       "      <td>0.0</td>\n",
       "      <td>good</td>\n",
       "      <td>yes</td>\n",
       "      <td>frontal intensity</td>\n",
       "    </tr>\n",
       "    <tr>\n",
       "      <th>2</th>\n",
       "      <td>sub-NET011</td>\n",
       "      <td>run-2</td>\n",
       "      <td>0.344154</td>\n",
       "      <td>0.171332</td>\n",
       "      <td>0.072854</td>\n",
       "      <td>0.0</td>\n",
       "      <td>good</td>\n",
       "      <td>yes</td>\n",
       "      <td>frontal intensity</td>\n",
       "    </tr>\n",
       "    <tr>\n",
       "      <th>3</th>\n",
       "      <td>sub-NET011</td>\n",
       "      <td>run-3</td>\n",
       "      <td>0.446952</td>\n",
       "      <td>0.175449</td>\n",
       "      <td>0.069946</td>\n",
       "      <td>0.0</td>\n",
       "      <td>good</td>\n",
       "      <td>yes</td>\n",
       "      <td>frontal intensity</td>\n",
       "    </tr>\n",
       "    <tr>\n",
       "      <th>4</th>\n",
       "      <td>sub-NET011</td>\n",
       "      <td>run-4</td>\n",
       "      <td>0.505895</td>\n",
       "      <td>0.161364</td>\n",
       "      <td>0.073391</td>\n",
       "      <td>0.0</td>\n",
       "      <td>good</td>\n",
       "      <td>yes</td>\n",
       "      <td>frontal intensity</td>\n",
       "    </tr>\n",
       "  </tbody>\n",
       "</table>\n",
       "</div>"
      ],
      "text/plain": [
       "   Subject_ID    Run     MaxFD    MeanFD      SdFD  CensorPercent Quality  \\\n",
       "0  sub-NET011     T1       NaN       NaN       NaN            NaN    good   \n",
       "1  sub-NET011  run-1  0.550616  0.189526  0.079709            0.0    good   \n",
       "2  sub-NET011  run-2  0.344154  0.171332  0.072854            0.0    good   \n",
       "3  sub-NET011  run-3  0.446952  0.175449  0.069946            0.0    good   \n",
       "4  sub-NET011  run-4  0.505895  0.161364  0.073391            0.0    good   \n",
       "\n",
       "  Cerebellum              Notes  \n",
       "0        yes                NaN  \n",
       "1        yes  frontal intensity  \n",
       "2        yes  frontal intensity  \n",
       "3        yes  frontal intensity  \n",
       "4        yes  frontal intensity  "
      ]
     },
     "execution_count": 3,
     "metadata": {},
     "output_type": "execute_result"
    }
   ],
   "source": [
    "mriqc_raw = pd.read_csv(proj_dir+'derivatives/motionsummary_cb.csv')\n",
    "mriqc_raw.head()"
   ]
  },
  {
   "cell_type": "code",
   "execution_count": 4,
   "id": "238b6285",
   "metadata": {},
   "outputs": [],
   "source": [
    "# Pull just the participant IDs\n",
    "#participant_list = [x for x in mriqc_raw.index if str(x).startswith('sub-NET')]\n",
    "participant_list = mriqc_raw['Subject_ID'].unique().tolist()"
   ]
  },
  {
   "cell_type": "markdown",
   "id": "7323145a",
   "metadata": {},
   "source": [
    "## Import Demographic Info"
   ]
  },
  {
   "cell_type": "code",
   "execution_count": 15,
   "id": "a1ebebda-f179-4fb8-a571-0273c2b9c574",
   "metadata": {},
   "outputs": [
    {
     "data": {
      "text/html": [
       "<div>\n",
       "<style scoped>\n",
       "    .dataframe tbody tr th:only-of-type {\n",
       "        vertical-align: middle;\n",
       "    }\n",
       "\n",
       "    .dataframe tbody tr th {\n",
       "        vertical-align: top;\n",
       "    }\n",
       "\n",
       "    .dataframe thead th {\n",
       "        text-align: right;\n",
       "    }\n",
       "</style>\n",
       "<table border=\"1\" class=\"dataframe\">\n",
       "  <thead>\n",
       "    <tr style=\"text-align: right;\">\n",
       "      <th></th>\n",
       "      <th>Start Date</th>\n",
       "      <th>End Date</th>\n",
       "      <th>Response Type</th>\n",
       "      <th>IP Address</th>\n",
       "      <th>Progress</th>\n",
       "      <th>Duration (in seconds)</th>\n",
       "      <th>Finished</th>\n",
       "      <th>Recorded Date</th>\n",
       "      <th>Response ID</th>\n",
       "      <th>Recipient Last Name</th>\n",
       "      <th>...</th>\n",
       "      <th>Perception Disliked</th>\n",
       "      <th>Metaperception Liked</th>\n",
       "      <th>Metaperception Disliked</th>\n",
       "      <th>BAPQ total</th>\n",
       "      <th>BAPQ Aloof</th>\n",
       "      <th>BAPQ Rigid</th>\n",
       "      <th>BAPQ Pragmatic Language</th>\n",
       "      <th>Loneliness Raw</th>\n",
       "      <th>Friendship Raw</th>\n",
       "      <th>Emotional Support Raw</th>\n",
       "    </tr>\n",
       "  </thead>\n",
       "  <tbody>\n",
       "    <tr>\n",
       "      <th>NET001</th>\n",
       "      <td>3/10/2021 10:32</td>\n",
       "      <td>3/10/2021 12:46</td>\n",
       "      <td>0</td>\n",
       "      <td>108.45.148.220</td>\n",
       "      <td>100</td>\n",
       "      <td>8001</td>\n",
       "      <td>1</td>\n",
       "      <td>3/10/2021 12:46</td>\n",
       "      <td>R_2ARJBDJBDtXnDJ0</td>\n",
       "      <td>NaN</td>\n",
       "      <td>...</td>\n",
       "      <td>21</td>\n",
       "      <td>49</td>\n",
       "      <td>18</td>\n",
       "      <td>71</td>\n",
       "      <td>15</td>\n",
       "      <td>29</td>\n",
       "      <td>27</td>\n",
       "      <td>10</td>\n",
       "      <td>40</td>\n",
       "      <td>39</td>\n",
       "    </tr>\n",
       "    <tr>\n",
       "      <th>NET002</th>\n",
       "      <td>3/24/2021 10:05</td>\n",
       "      <td>3/24/2021 12:11</td>\n",
       "      <td>0</td>\n",
       "      <td>69.255.144.220</td>\n",
       "      <td>100</td>\n",
       "      <td>7539</td>\n",
       "      <td>1</td>\n",
       "      <td>3/24/2021 12:11</td>\n",
       "      <td>R_3fk5uJ5Axy85Vg6</td>\n",
       "      <td>NaN</td>\n",
       "      <td>...</td>\n",
       "      <td>19</td>\n",
       "      <td>42</td>\n",
       "      <td>23</td>\n",
       "      <td>105</td>\n",
       "      <td>42</td>\n",
       "      <td>36</td>\n",
       "      <td>27</td>\n",
       "      <td>19</td>\n",
       "      <td>27</td>\n",
       "      <td>33</td>\n",
       "    </tr>\n",
       "    <tr>\n",
       "      <th>NET003</th>\n",
       "      <td>3/29/2021 10:32</td>\n",
       "      <td>3/29/2021 12:38</td>\n",
       "      <td>0</td>\n",
       "      <td>31.223.148.110</td>\n",
       "      <td>100</td>\n",
       "      <td>7561</td>\n",
       "      <td>1</td>\n",
       "      <td>3/29/2021 12:38</td>\n",
       "      <td>R_3gSGCOJ7sfhPOR1</td>\n",
       "      <td>NaN</td>\n",
       "      <td>...</td>\n",
       "      <td>23</td>\n",
       "      <td>46</td>\n",
       "      <td>26</td>\n",
       "      <td>133</td>\n",
       "      <td>39</td>\n",
       "      <td>49</td>\n",
       "      <td>45</td>\n",
       "      <td>14</td>\n",
       "      <td>30</td>\n",
       "      <td>32</td>\n",
       "    </tr>\n",
       "    <tr>\n",
       "      <th>NET004</th>\n",
       "      <td>3/31/2021 10:02</td>\n",
       "      <td>3/31/2021 11:43</td>\n",
       "      <td>0</td>\n",
       "      <td>75.102.135.227</td>\n",
       "      <td>100</td>\n",
       "      <td>6047</td>\n",
       "      <td>1</td>\n",
       "      <td>3/31/2021 11:43</td>\n",
       "      <td>R_w4Y1L81FZu85wiZ</td>\n",
       "      <td>NaN</td>\n",
       "      <td>...</td>\n",
       "      <td>16</td>\n",
       "      <td>54</td>\n",
       "      <td>15</td>\n",
       "      <td>77</td>\n",
       "      <td>19</td>\n",
       "      <td>26</td>\n",
       "      <td>32</td>\n",
       "      <td>12</td>\n",
       "      <td>35</td>\n",
       "      <td>40</td>\n",
       "    </tr>\n",
       "    <tr>\n",
       "      <th>NET005</th>\n",
       "      <td>4/5/2021 10:36</td>\n",
       "      <td>4/5/2021 13:28</td>\n",
       "      <td>0</td>\n",
       "      <td>185.245.86.2</td>\n",
       "      <td>100</td>\n",
       "      <td>10324</td>\n",
       "      <td>1</td>\n",
       "      <td>4/5/2021 13:28</td>\n",
       "      <td>R_1Kw1eFHhB2l5xSk</td>\n",
       "      <td>NaN</td>\n",
       "      <td>...</td>\n",
       "      <td>16</td>\n",
       "      <td>61</td>\n",
       "      <td>19</td>\n",
       "      <td>95</td>\n",
       "      <td>22</td>\n",
       "      <td>35</td>\n",
       "      <td>38</td>\n",
       "      <td>10</td>\n",
       "      <td>36</td>\n",
       "      <td>36</td>\n",
       "    </tr>\n",
       "    <tr>\n",
       "      <th>...</th>\n",
       "      <td>...</td>\n",
       "      <td>...</td>\n",
       "      <td>...</td>\n",
       "      <td>...</td>\n",
       "      <td>...</td>\n",
       "      <td>...</td>\n",
       "      <td>...</td>\n",
       "      <td>...</td>\n",
       "      <td>...</td>\n",
       "      <td>...</td>\n",
       "      <td>...</td>\n",
       "      <td>...</td>\n",
       "      <td>...</td>\n",
       "      <td>...</td>\n",
       "      <td>...</td>\n",
       "      <td>...</td>\n",
       "      <td>...</td>\n",
       "      <td>...</td>\n",
       "      <td>...</td>\n",
       "      <td>...</td>\n",
       "      <td>...</td>\n",
       "    </tr>\n",
       "    <tr>\n",
       "      <th>NET106</th>\n",
       "      <td>7/15/2022 10:31</td>\n",
       "      <td>7/15/2022 12:25</td>\n",
       "      <td>0</td>\n",
       "      <td>73.134.140.72</td>\n",
       "      <td>100</td>\n",
       "      <td>6809</td>\n",
       "      <td>1</td>\n",
       "      <td>7/15/2022 12:25</td>\n",
       "      <td>R_3J9jecosWQc5DMK</td>\n",
       "      <td>NaN</td>\n",
       "      <td>...</td>\n",
       "      <td>16</td>\n",
       "      <td>47</td>\n",
       "      <td>17</td>\n",
       "      <td>117</td>\n",
       "      <td>40</td>\n",
       "      <td>43</td>\n",
       "      <td>34</td>\n",
       "      <td>16</td>\n",
       "      <td>27</td>\n",
       "      <td>37</td>\n",
       "    </tr>\n",
       "    <tr>\n",
       "      <th>NET107</th>\n",
       "      <td>7/18/2022 9:00</td>\n",
       "      <td>7/18/2022 11:08</td>\n",
       "      <td>0</td>\n",
       "      <td>69.143.204.33</td>\n",
       "      <td>100</td>\n",
       "      <td>7673</td>\n",
       "      <td>1</td>\n",
       "      <td>7/18/2022 11:08</td>\n",
       "      <td>R_oZETnKcITIxJNQZ</td>\n",
       "      <td>NaN</td>\n",
       "      <td>...</td>\n",
       "      <td>18</td>\n",
       "      <td>45</td>\n",
       "      <td>24</td>\n",
       "      <td>109</td>\n",
       "      <td>36</td>\n",
       "      <td>34</td>\n",
       "      <td>39</td>\n",
       "      <td>12</td>\n",
       "      <td>30</td>\n",
       "      <td>35</td>\n",
       "    </tr>\n",
       "    <tr>\n",
       "      <th>NET108</th>\n",
       "      <td>7/25/2022 9:01</td>\n",
       "      <td>7/25/2022 11:08</td>\n",
       "      <td>0</td>\n",
       "      <td>96.255.83.138</td>\n",
       "      <td>100</td>\n",
       "      <td>7666</td>\n",
       "      <td>1</td>\n",
       "      <td>7/25/2022 11:08</td>\n",
       "      <td>R_2QMd3a1y18LzZ1P</td>\n",
       "      <td>NaN</td>\n",
       "      <td>...</td>\n",
       "      <td>14</td>\n",
       "      <td>47</td>\n",
       "      <td>16</td>\n",
       "      <td>97</td>\n",
       "      <td>31</td>\n",
       "      <td>37</td>\n",
       "      <td>29</td>\n",
       "      <td>6</td>\n",
       "      <td>39</td>\n",
       "      <td>40</td>\n",
       "    </tr>\n",
       "    <tr>\n",
       "      <th>NET109</th>\n",
       "      <td>7/25/2022 11:00</td>\n",
       "      <td>7/25/2022 12:59</td>\n",
       "      <td>0</td>\n",
       "      <td>129.2.180.215</td>\n",
       "      <td>100</td>\n",
       "      <td>7132</td>\n",
       "      <td>1</td>\n",
       "      <td>7/25/2022 12:59</td>\n",
       "      <td>R_YS0L1NsPQmPPuYF</td>\n",
       "      <td>NaN</td>\n",
       "      <td>...</td>\n",
       "      <td>18</td>\n",
       "      <td>41</td>\n",
       "      <td>27</td>\n",
       "      <td>127</td>\n",
       "      <td>46</td>\n",
       "      <td>42</td>\n",
       "      <td>39</td>\n",
       "      <td>15</td>\n",
       "      <td>24</td>\n",
       "      <td>32</td>\n",
       "    </tr>\n",
       "    <tr>\n",
       "      <th>NET110</th>\n",
       "      <td>7/26/2022 8:39</td>\n",
       "      <td>7/26/2022 10:56</td>\n",
       "      <td>0</td>\n",
       "      <td>129.2.181.160</td>\n",
       "      <td>100</td>\n",
       "      <td>8208</td>\n",
       "      <td>1</td>\n",
       "      <td>7/26/2022 11:11</td>\n",
       "      <td>R_3fvKepZcHJoSC7P</td>\n",
       "      <td>NaN</td>\n",
       "      <td>...</td>\n",
       "      <td>21</td>\n",
       "      <td>52</td>\n",
       "      <td>24</td>\n",
       "      <td>101</td>\n",
       "      <td>39</td>\n",
       "      <td>34</td>\n",
       "      <td>28</td>\n",
       "      <td>15</td>\n",
       "      <td>29</td>\n",
       "      <td>38</td>\n",
       "    </tr>\n",
       "  </tbody>\n",
       "</table>\n",
       "<p>100 rows × 377 columns</p>\n",
       "</div>"
      ],
      "text/plain": [
       "             Start Date         End Date Response Type      IP Address  \\\n",
       "NET001  3/10/2021 10:32  3/10/2021 12:46             0  108.45.148.220   \n",
       "NET002  3/24/2021 10:05  3/24/2021 12:11             0  69.255.144.220   \n",
       "NET003  3/29/2021 10:32  3/29/2021 12:38             0  31.223.148.110   \n",
       "NET004  3/31/2021 10:02  3/31/2021 11:43             0  75.102.135.227   \n",
       "NET005   4/5/2021 10:36   4/5/2021 13:28             0    185.245.86.2   \n",
       "...                 ...              ...           ...             ...   \n",
       "NET106  7/15/2022 10:31  7/15/2022 12:25             0   73.134.140.72   \n",
       "NET107   7/18/2022 9:00  7/18/2022 11:08             0   69.143.204.33   \n",
       "NET108   7/25/2022 9:01  7/25/2022 11:08             0   96.255.83.138   \n",
       "NET109  7/25/2022 11:00  7/25/2022 12:59             0   129.2.180.215   \n",
       "NET110   7/26/2022 8:39  7/26/2022 10:56             0   129.2.181.160   \n",
       "\n",
       "       Progress Duration (in seconds) Finished    Recorded Date  \\\n",
       "NET001      100                  8001        1  3/10/2021 12:46   \n",
       "NET002      100                  7539        1  3/24/2021 12:11   \n",
       "NET003      100                  7561        1  3/29/2021 12:38   \n",
       "NET004      100                  6047        1  3/31/2021 11:43   \n",
       "NET005      100                 10324        1   4/5/2021 13:28   \n",
       "...         ...                   ...      ...              ...   \n",
       "NET106      100                  6809        1  7/15/2022 12:25   \n",
       "NET107      100                  7673        1  7/18/2022 11:08   \n",
       "NET108      100                  7666        1  7/25/2022 11:08   \n",
       "NET109      100                  7132        1  7/25/2022 12:59   \n",
       "NET110      100                  8208        1  7/26/2022 11:11   \n",
       "\n",
       "              Response ID Recipient Last Name  ... Perception Disliked  \\\n",
       "NET001  R_2ARJBDJBDtXnDJ0                 NaN  ...                  21   \n",
       "NET002  R_3fk5uJ5Axy85Vg6                 NaN  ...                  19   \n",
       "NET003  R_3gSGCOJ7sfhPOR1                 NaN  ...                  23   \n",
       "NET004  R_w4Y1L81FZu85wiZ                 NaN  ...                  16   \n",
       "NET005  R_1Kw1eFHhB2l5xSk                 NaN  ...                  16   \n",
       "...                   ...                 ...  ...                 ...   \n",
       "NET106  R_3J9jecosWQc5DMK                 NaN  ...                  16   \n",
       "NET107  R_oZETnKcITIxJNQZ                 NaN  ...                  18   \n",
       "NET108  R_2QMd3a1y18LzZ1P                 NaN  ...                  14   \n",
       "NET109  R_YS0L1NsPQmPPuYF                 NaN  ...                  18   \n",
       "NET110  R_3fvKepZcHJoSC7P                 NaN  ...                  21   \n",
       "\n",
       "       Metaperception Liked Metaperception Disliked BAPQ total BAPQ Aloof  \\\n",
       "NET001                   49                      18         71         15   \n",
       "NET002                   42                      23        105         42   \n",
       "NET003                   46                      26        133         39   \n",
       "NET004                   54                      15         77         19   \n",
       "NET005                   61                      19         95         22   \n",
       "...                     ...                     ...        ...        ...   \n",
       "NET106                   47                      17        117         40   \n",
       "NET107                   45                      24        109         36   \n",
       "NET108                   47                      16         97         31   \n",
       "NET109                   41                      27        127         46   \n",
       "NET110                   52                      24        101         39   \n",
       "\n",
       "       BAPQ Rigid BAPQ Pragmatic Language Loneliness Raw Friendship Raw  \\\n",
       "NET001         29                      27             10             40   \n",
       "NET002         36                      27             19             27   \n",
       "NET003         49                      45             14             30   \n",
       "NET004         26                      32             12             35   \n",
       "NET005         35                      38             10             36   \n",
       "...           ...                     ...            ...            ...   \n",
       "NET106         43                      34             16             27   \n",
       "NET107         34                      39             12             30   \n",
       "NET108         37                      29              6             39   \n",
       "NET109         42                      39             15             24   \n",
       "NET110         34                      28             15             29   \n",
       "\n",
       "       Emotional Support Raw  \n",
       "NET001                    39  \n",
       "NET002                    33  \n",
       "NET003                    32  \n",
       "NET004                    40  \n",
       "NET005                    36  \n",
       "...                      ...  \n",
       "NET106                    37  \n",
       "NET107                    35  \n",
       "NET108                    40  \n",
       "NET109                    32  \n",
       "NET110                    38  \n",
       "\n",
       "[100 rows x 377 columns]"
      ]
     },
     "execution_count": 15,
     "metadata": {},
     "output_type": "execute_result"
    }
   ],
   "source": [
    "\n",
    "demo_info"
   ]
  },
  {
   "cell_type": "code",
   "execution_count": 48,
   "id": "607edeb6-e9b6-4018-a099-d55db3e943ea",
   "metadata": {},
   "outputs": [
    {
     "data": {
      "text/html": [
       "<div>\n",
       "<style scoped>\n",
       "    .dataframe tbody tr th:only-of-type {\n",
       "        vertical-align: middle;\n",
       "    }\n",
       "\n",
       "    .dataframe tbody tr th {\n",
       "        vertical-align: top;\n",
       "    }\n",
       "\n",
       "    .dataframe thead th {\n",
       "        text-align: right;\n",
       "    }\n",
       "</style>\n",
       "<table border=\"1\" class=\"dataframe\">\n",
       "  <thead>\n",
       "    <tr style=\"text-align: right;\">\n",
       "      <th></th>\n",
       "      <th>Age</th>\n",
       "      <th>Gender</th>\n",
       "      <th>Race/Ethnicity</th>\n",
       "    </tr>\n",
       "  </thead>\n",
       "  <tbody>\n",
       "    <tr>\n",
       "      <th>sub-NET001</th>\n",
       "      <td>NaN</td>\n",
       "      <td>2</td>\n",
       "      <td>6</td>\n",
       "    </tr>\n",
       "    <tr>\n",
       "      <th>sub-NET002</th>\n",
       "      <td>22</td>\n",
       "      <td>2</td>\n",
       "      <td>6</td>\n",
       "    </tr>\n",
       "    <tr>\n",
       "      <th>sub-NET003</th>\n",
       "      <td>NaN</td>\n",
       "      <td>1</td>\n",
       "      <td>7</td>\n",
       "    </tr>\n",
       "    <tr>\n",
       "      <th>sub-NET004</th>\n",
       "      <td>20</td>\n",
       "      <td>2</td>\n",
       "      <td>6</td>\n",
       "    </tr>\n",
       "    <tr>\n",
       "      <th>sub-NET005</th>\n",
       "      <td>26</td>\n",
       "      <td>1</td>\n",
       "      <td>3</td>\n",
       "    </tr>\n",
       "  </tbody>\n",
       "</table>\n",
       "</div>"
      ],
      "text/plain": [
       "            Age Gender Race/Ethnicity\n",
       "sub-NET001  NaN      2              6\n",
       "sub-NET002   22      2              6\n",
       "sub-NET003  NaN      1              7\n",
       "sub-NET004   20      2              6\n",
       "sub-NET005   26      1              3"
      ]
     },
     "execution_count": 48,
     "metadata": {},
     "output_type": "execute_result"
    }
   ],
   "source": [
    "# Import Redcap demographics info\n",
    "demo_info = pd.read_csv(os.path.join(proj_dir, 'misc','Output.csv'), index_col=0, skiprows=1)\n",
    "demo_info = pd.read_csv(os.path.join(proj_dir, 'misc','Output.csv'), index_col=0, skiprows=1)\n",
    "demo_info = demo_info.iloc[1:]\n",
    "\n",
    "# Identify relevent columns in the Redcap dataframe\n",
    "relv_cols = ['Age:', 'What is your gender?', 'Ethnic Category']\n",
    "\n",
    "demo_info_fltr = demo_info[relv_cols]\n",
    "demo_info_fltr.columns = ['Age', 'Gender', 'Race/Ethnicity']\n",
    "\n",
    "demo_info_fltr.index = 'sub-' + demo_info_fltr.index\n",
    "\n",
    "demo_info_fltr.head()"
   ]
  },
  {
   "cell_type": "code",
   "execution_count": 49,
   "id": "9e35728a-df7f-4292-8e93-312571697564",
   "metadata": {},
   "outputs": [
    {
     "name": "stderr",
     "output_type": "stream",
     "text": [
      "/var/folders/85/t_6qbb0j2pvbbd0sq3zrwbc00000gq/T/ipykernel_89191/3719720046.py:13: FutureWarning: ChainedAssignmentError: behaviour will change in pandas 3.0!\n",
      "You are setting values through chained assignment. Currently this works in certain cases, but when using Copy-on-Write (which will become the default behaviour in pandas 3.0) this will never work to update the original DataFrame or Series, because the intermediate object on which we are setting values will behave as a copy.\n",
      "A typical example is when you are setting values in a column of a DataFrame, like:\n",
      "\n",
      "df[\"col\"][row_indexer] = value\n",
      "\n",
      "Use `df.loc[row_indexer, \"col\"] = values` instead, to perform the assignment in a single step and ensure this keeps updating the original `df`.\n",
      "\n",
      "See the caveats in the documentation: https://pandas.pydata.org/pandas-docs/stable/user_guide/indexing.html#returning-a-view-versus-a-copy\n",
      "\n",
      "  demo_info_fltr.loc[:,'Age'][demo_info_fltr['Age'].isna()] = [19,21,20,21,np.nan]\n",
      "/var/folders/85/t_6qbb0j2pvbbd0sq3zrwbc00000gq/T/ipykernel_89191/3719720046.py:13: SettingWithCopyWarning: \n",
      "A value is trying to be set on a copy of a slice from a DataFrame\n",
      "\n",
      "See the caveats in the documentation: https://pandas.pydata.org/pandas-docs/stable/user_guide/indexing.html#returning-a-view-versus-a-copy\n",
      "  demo_info_fltr.loc[:,'Age'][demo_info_fltr['Age'].isna()] = [19,21,20,21,np.nan]\n"
     ]
    },
    {
     "data": {
      "text/html": [
       "<div>\n",
       "<style scoped>\n",
       "    .dataframe tbody tr th:only-of-type {\n",
       "        vertical-align: middle;\n",
       "    }\n",
       "\n",
       "    .dataframe tbody tr th {\n",
       "        vertical-align: top;\n",
       "    }\n",
       "\n",
       "    .dataframe thead th {\n",
       "        text-align: right;\n",
       "    }\n",
       "</style>\n",
       "<table border=\"1\" class=\"dataframe\">\n",
       "  <thead>\n",
       "    <tr style=\"text-align: right;\">\n",
       "      <th></th>\n",
       "      <th>Age</th>\n",
       "      <th>Gender</th>\n",
       "      <th>Race/Ethnicity</th>\n",
       "    </tr>\n",
       "  </thead>\n",
       "  <tbody>\n",
       "    <tr>\n",
       "      <th>sub-NET001</th>\n",
       "      <td>19</td>\n",
       "      <td>Female</td>\n",
       "      <td>White</td>\n",
       "    </tr>\n",
       "    <tr>\n",
       "      <th>sub-NET002</th>\n",
       "      <td>22</td>\n",
       "      <td>Female</td>\n",
       "      <td>White</td>\n",
       "    </tr>\n",
       "    <tr>\n",
       "      <th>sub-NET003</th>\n",
       "      <td>21</td>\n",
       "      <td>Male</td>\n",
       "      <td>More than one race</td>\n",
       "    </tr>\n",
       "    <tr>\n",
       "      <th>sub-NET004</th>\n",
       "      <td>20</td>\n",
       "      <td>Female</td>\n",
       "      <td>White</td>\n",
       "    </tr>\n",
       "    <tr>\n",
       "      <th>sub-NET005</th>\n",
       "      <td>26</td>\n",
       "      <td>Male</td>\n",
       "      <td>Black or African American</td>\n",
       "    </tr>\n",
       "  </tbody>\n",
       "</table>\n",
       "</div>"
      ],
      "text/plain": [
       "           Age  Gender             Race/Ethnicity\n",
       "sub-NET001  19  Female                      White\n",
       "sub-NET002  22  Female                      White\n",
       "sub-NET003  21    Male         More than one race\n",
       "sub-NET004  20  Female                      White\n",
       "sub-NET005  26    Male  Black or African American"
      ]
     },
     "execution_count": 49,
     "metadata": {},
     "output_type": "execute_result"
    }
   ],
   "source": [
    "# Replace numbers for gender and race with values\n",
    "demo_info_fltr.loc[:,'Gender'] = demo_info_fltr['Gender'].replace({'1': 'Male', \n",
    "                                                                   '2': 'Female',\n",
    "                                                                   '3': 'Nonbinary'})\n",
    "demo_info_fltr.loc[:,'Race/Ethnicity'] = demo_info_fltr['Race/Ethnicity'].replace({'6': 'White', \n",
    "                                                                                   '7': 'More than one race',\n",
    "                                                                                   '3': 'Black or African American',\n",
    "                                                                                   '4': 'Hispanic or Latino',\n",
    "                                                                                   '2': 'Asian',\n",
    "                                                                                   '5': 'Native Hawaiian or Other Pacific Islander',\n",
    "                                                                                   '8': 'Other, Unknown or not reported'})\n",
    "\n",
    "demo_info_fltr.loc[:,'Age'][demo_info_fltr['Age'].isna()] = [19,21,20,21,np.nan]\n",
    "\n",
    "demo_info_fltr.head()"
   ]
  },
  {
   "cell_type": "markdown",
   "id": "4fb4659f",
   "metadata": {},
   "source": [
    "### Visualize Demographics"
   ]
  },
  {
   "cell_type": "code",
   "execution_count": 51,
   "id": "128de35b-0b06-44d8-91b2-df7cdbb282c3",
   "metadata": {},
   "outputs": [
    {
     "data": {
      "image/png": "[encoded data removed]",
      "text/plain": [
       "<Figure size 1000x400 with 3 Axes>"
      ]
     },
     "metadata": {},
     "output_type": "display_data"
    }
   ],
   "source": [
    "plt.figure(figsize=(10,4))\n",
    "\n",
    "plt.subplot(1, 3, 1)\n",
    "sns.histplot(demo_info_fltr, x='Age', legend=False)\n",
    "\n",
    "plt.subplot(1, 3, 2)\n",
    "ax = sns.histplot(demo_info_fltr, x='Gender')\n",
    "\n",
    "plt.subplot(1, 3, 3)\n",
    "ax = sns.histplot(demo_info_fltr, x='Race/Ethnicity')\n",
    "ax.tick_params(axis='x', labelrotation=90)\n",
    "\n",
    "plt.subplots_adjust(wspace = 0.65)"
   ]
  },
  {
   "cell_type": "markdown",
   "id": "d44ce5fe",
   "metadata": {},
   "source": [
    "## Export General List"
   ]
  },
  {
   "cell_type": "code",
   "execution_count": 56,
   "id": "8024d2de-ee69-4470-babc-01211bf931f4",
   "metadata": {},
   "outputs": [
    {
     "data": {
      "text/html": [
       "<div>\n",
       "<style scoped>\n",
       "    .dataframe tbody tr th:only-of-type {\n",
       "        vertical-align: middle;\n",
       "    }\n",
       "\n",
       "    .dataframe tbody tr th {\n",
       "        vertical-align: top;\n",
       "    }\n",
       "\n",
       "    .dataframe thead th {\n",
       "        text-align: right;\n",
       "    }\n",
       "</style>\n",
       "<table border=\"1\" class=\"dataframe\">\n",
       "  <thead>\n",
       "    <tr style=\"text-align: right;\">\n",
       "      <th></th>\n",
       "      <th>participant_id</th>\n",
       "      <th>Age</th>\n",
       "      <th>Gender</th>\n",
       "      <th>Race/Ethnicity</th>\n",
       "    </tr>\n",
       "  </thead>\n",
       "  <tbody>\n",
       "    <tr>\n",
       "      <th>sub-NET011</th>\n",
       "      <td>sub-NET011</td>\n",
       "      <td>23</td>\n",
       "      <td>Male</td>\n",
       "      <td>White</td>\n",
       "    </tr>\n",
       "    <tr>\n",
       "      <th>sub-NET012</th>\n",
       "      <td>sub-NET012</td>\n",
       "      <td>25</td>\n",
       "      <td>Female</td>\n",
       "      <td>Asian</td>\n",
       "    </tr>\n",
       "    <tr>\n",
       "      <th>sub-NET014</th>\n",
       "      <td>sub-NET014</td>\n",
       "      <td>21</td>\n",
       "      <td>Male</td>\n",
       "      <td>Native Hawaiian or Other Pacific Islander</td>\n",
       "    </tr>\n",
       "    <tr>\n",
       "      <th>sub-NET016</th>\n",
       "      <td>sub-NET016</td>\n",
       "      <td>18</td>\n",
       "      <td>Female</td>\n",
       "      <td>White</td>\n",
       "    </tr>\n",
       "    <tr>\n",
       "      <th>sub-NET017</th>\n",
       "      <td>sub-NET017</td>\n",
       "      <td>22</td>\n",
       "      <td>Male</td>\n",
       "      <td>Other, Unknown or not reported</td>\n",
       "    </tr>\n",
       "  </tbody>\n",
       "</table>\n",
       "</div>"
      ],
      "text/plain": [
       "           participant_id Age  Gender  \\\n",
       "sub-NET011     sub-NET011  23    Male   \n",
       "sub-NET012     sub-NET012  25  Female   \n",
       "sub-NET014     sub-NET014  21    Male   \n",
       "sub-NET016     sub-NET016  18  Female   \n",
       "sub-NET017     sub-NET017  22    Male   \n",
       "\n",
       "                                       Race/Ethnicity  \n",
       "sub-NET011                                      White  \n",
       "sub-NET012                                      Asian  \n",
       "sub-NET014  Native Hawaiian or Other Pacific Islander  \n",
       "sub-NET016                                      White  \n",
       "sub-NET017             Other, Unknown or not reported  "
      ]
     },
     "execution_count": 56,
     "metadata": {},
     "output_type": "execute_result"
    }
   ],
   "source": [
    "fmriprep_demo = demo_info_fltr.loc[participant_list]\n",
    "fmriprep_demo['participant_id'] = fmriprep_demo.index\n",
    "fmriprep_demo = fmriprep_demo[['participant_id','Age','Gender','Race/Ethnicity']]\n",
    "\n",
    "fmriprep_demo.head()"
   ]
  },
  {
   "cell_type": "code",
   "execution_count": 57,
   "id": "341c9c14",
   "metadata": {},
   "outputs": [],
   "source": [
    "fmriprep_demo.to_csv(proj_dir+'/participants.tsv', sep='\\t', \n",
    "                                index=False)"
   ]
  },
  {
   "cell_type": "markdown",
   "id": "a3470e19",
   "metadata": {},
   "source": [
    "***"
   ]
  },
  {
   "cell_type": "markdown",
   "id": "ab646fbd",
   "metadata": {},
   "source": [
    "# Imaging QC\n",
    "\n",
    "This section will create a list of participants which have passed the lab based MRI QC protocols. "
   ]
  },
  {
   "cell_type": "markdown",
   "id": "02e4d9b7",
   "metadata": {},
   "source": [
    "## Import QC Data"
   ]
  },
  {
   "cell_type": "code",
   "execution_count": 58,
   "id": "3ec2a173-0537-4e9e-a6e9-76bf0ddac51f",
   "metadata": {},
   "outputs": [
    {
     "data": {
      "text/html": [
       "<div>\n",
       "<style scoped>\n",
       "    .dataframe tbody tr th:only-of-type {\n",
       "        vertical-align: middle;\n",
       "    }\n",
       "\n",
       "    .dataframe tbody tr th {\n",
       "        vertical-align: top;\n",
       "    }\n",
       "\n",
       "    .dataframe thead th {\n",
       "        text-align: right;\n",
       "    }\n",
       "</style>\n",
       "<table border=\"1\" class=\"dataframe\">\n",
       "  <thead>\n",
       "    <tr style=\"text-align: right;\">\n",
       "      <th></th>\n",
       "      <th>Subject_ID</th>\n",
       "      <th>Run</th>\n",
       "      <th>MaxFD</th>\n",
       "      <th>MeanFD</th>\n",
       "      <th>SdFD</th>\n",
       "      <th>CensorPercent</th>\n",
       "      <th>Quality</th>\n",
       "      <th>Cerebellum</th>\n",
       "      <th>Notes</th>\n",
       "    </tr>\n",
       "  </thead>\n",
       "  <tbody>\n",
       "    <tr>\n",
       "      <th>0</th>\n",
       "      <td>sub-NET011</td>\n",
       "      <td>T1</td>\n",
       "      <td>NaN</td>\n",
       "      <td>NaN</td>\n",
       "      <td>NaN</td>\n",
       "      <td>NaN</td>\n",
       "      <td>good</td>\n",
       "      <td>yes</td>\n",
       "      <td>NaN</td>\n",
       "    </tr>\n",
       "    <tr>\n",
       "      <th>1</th>\n",
       "      <td>sub-NET011</td>\n",
       "      <td>run-1</td>\n",
       "      <td>0.550616</td>\n",
       "      <td>0.189526</td>\n",
       "      <td>0.079709</td>\n",
       "      <td>0.0</td>\n",
       "      <td>good</td>\n",
       "      <td>yes</td>\n",
       "      <td>frontal intensity</td>\n",
       "    </tr>\n",
       "    <tr>\n",
       "      <th>2</th>\n",
       "      <td>sub-NET011</td>\n",
       "      <td>run-2</td>\n",
       "      <td>0.344154</td>\n",
       "      <td>0.171332</td>\n",
       "      <td>0.072854</td>\n",
       "      <td>0.0</td>\n",
       "      <td>good</td>\n",
       "      <td>yes</td>\n",
       "      <td>frontal intensity</td>\n",
       "    </tr>\n",
       "    <tr>\n",
       "      <th>3</th>\n",
       "      <td>sub-NET011</td>\n",
       "      <td>run-3</td>\n",
       "      <td>0.446952</td>\n",
       "      <td>0.175449</td>\n",
       "      <td>0.069946</td>\n",
       "      <td>0.0</td>\n",
       "      <td>good</td>\n",
       "      <td>yes</td>\n",
       "      <td>frontal intensity</td>\n",
       "    </tr>\n",
       "    <tr>\n",
       "      <th>4</th>\n",
       "      <td>sub-NET011</td>\n",
       "      <td>run-4</td>\n",
       "      <td>0.505895</td>\n",
       "      <td>0.161364</td>\n",
       "      <td>0.073391</td>\n",
       "      <td>0.0</td>\n",
       "      <td>good</td>\n",
       "      <td>yes</td>\n",
       "      <td>frontal intensity</td>\n",
       "    </tr>\n",
       "  </tbody>\n",
       "</table>\n",
       "</div>"
      ],
      "text/plain": [
       "   Subject_ID    Run     MaxFD    MeanFD      SdFD  CensorPercent Quality  \\\n",
       "0  sub-NET011     T1       NaN       NaN       NaN            NaN    good   \n",
       "1  sub-NET011  run-1  0.550616  0.189526  0.079709            0.0    good   \n",
       "2  sub-NET011  run-2  0.344154  0.171332  0.072854            0.0    good   \n",
       "3  sub-NET011  run-3  0.446952  0.175449  0.069946            0.0    good   \n",
       "4  sub-NET011  run-4  0.505895  0.161364  0.073391            0.0    good   \n",
       "\n",
       "  Cerebellum              Notes  \n",
       "0        yes                NaN  \n",
       "1        yes  frontal intensity  \n",
       "2        yes  frontal intensity  \n",
       "3        yes  frontal intensity  \n",
       "4        yes  frontal intensity  "
      ]
     },
     "execution_count": 58,
     "metadata": {},
     "output_type": "execute_result"
    }
   ],
   "source": [
    "mriqc_raw.head()"
   ]
  },
  {
   "cell_type": "markdown",
   "id": "a84f1f59",
   "metadata": {},
   "source": [
    "Total number of participants:"
   ]
  },
  {
   "cell_type": "code",
   "execution_count": 59,
   "id": "073a049e",
   "metadata": {},
   "outputs": [
    {
     "data": {
      "text/plain": [
       "64"
      ]
     },
     "execution_count": 59,
     "metadata": {},
     "output_type": "execute_result"
    }
   ],
   "source": [
    "len(participant_list)"
   ]
  },
  {
   "cell_type": "markdown",
   "id": "cda0e39b",
   "metadata": {},
   "source": [
    "## Visualize MRI QC Metadata"
   ]
  },
  {
   "cell_type": "markdown",
   "id": "87555922",
   "metadata": {},
   "source": [
    "### All MRI QC values"
   ]
  },
  {
   "cell_type": "code",
   "execution_count": 60,
   "id": "ff901793-cdc5-480b-840f-5ed4ddb4a9e0",
   "metadata": {},
   "outputs": [
    {
     "data": {
      "text/plain": [
       "<Axes: xlabel='Run,Quality'>"
      ]
     },
     "execution_count": 60,
     "metadata": {},
     "output_type": "execute_result"
    },
    {
     "data": {
      "image/png": "[encoded data removed]",
      "text/plain": [
       "<Figure size 640x480 with 1 Axes>"
      ]
     },
     "metadata": {},
     "output_type": "display_data"
    }
   ],
   "source": [
    "mriqc_raw.groupby('Run')['Quality'].value_counts().plot.bar()"
   ]
  },
  {
   "cell_type": "markdown",
   "id": "cf3266f5",
   "metadata": {},
   "source": [
    "Count the number of participants that are being completly excluded because none of their scan data is usable:"
   ]
  },
  {
   "cell_type": "code",
   "execution_count": 61,
   "id": "0bb4f7de",
   "metadata": {},
   "outputs": [
    {
     "data": {
      "text/plain": [
       "25"
      ]
     },
     "execution_count": 61,
     "metadata": {},
     "output_type": "execute_result"
    }
   ],
   "source": [
    "len(mriqc_raw[mriqc_raw['Quality'] != 'good']['Subject_ID'].unique())"
   ]
  },
  {
   "cell_type": "markdown",
   "id": "e55eab83",
   "metadata": {},
   "source": [
    "### Number of good scans"
   ]
  },
  {
   "cell_type": "code",
   "execution_count": 62,
   "id": "3b5c59ff-e51f-4a32-916b-0ff298355311",
   "metadata": {},
   "outputs": [],
   "source": [
    "mriqc_melt_good = mriqc_raw[mriqc_raw['Quality'] == 'good']\n",
    "mriqc_melt_good = mriqc_melt_good.rename(columns={\"Subject_ID\": \"participant_id\"})"
   ]
  },
  {
   "cell_type": "code",
   "execution_count": 63,
   "id": "e436aa70",
   "metadata": {},
   "outputs": [
    {
     "data": {
      "text/plain": [
       "<Axes: xlabel='Run,Quality'>"
      ]
     },
     "execution_count": 63,
     "metadata": {},
     "output_type": "execute_result"
    },
    {
     "data": {
      "image/png": "[encoded data removed]",
      "text/plain": [
       "<Figure size 640x480 with 1 Axes>"
      ]
     },
     "metadata": {},
     "output_type": "display_data"
    }
   ],
   "source": [
    "mriqc_melt_good.groupby('Run')['Quality'].value_counts().plot.bar()"
   ]
  },
  {
   "cell_type": "markdown",
   "id": "f1d6b580",
   "metadata": {},
   "source": [
    "### Visualize demographics"
   ]
  },
  {
   "cell_type": "code",
   "execution_count": 67,
   "id": "a7600460-595c-4ab1-8bb5-9892c6b8622a",
   "metadata": {},
   "outputs": [],
   "source": [
    "fmriprep_demo_qc = fmriprep_demo[fmriprep_demo['participant_id'].isin(mriqc_melt_good['participant_id'].unique())]\n",
    "fmriprep_demo_qc['Age'] = pd.to_numeric(fmriprep_demo_qc['Age'])"
   ]
  },
  {
   "cell_type": "code",
   "execution_count": 68,
   "id": "c192063d-e455-4d3b-a857-03f605ab218e",
   "metadata": {},
   "outputs": [
    {
     "data": {
      "image/png": "[encoded data removed]",
      "text/plain": [
       "<Figure size 1000x400 with 3 Axes>"
      ]
     },
     "metadata": {},
     "output_type": "display_data"
    }
   ],
   "source": [
    "plt.figure(figsize=(10,4))\n",
    "\n",
    "plt.subplot(1, 3, 1)\n",
    "sns.histplot(fmriprep_demo_qc, x='Age', legend=False)\n",
    "\n",
    "plt.subplot(1, 3, 2)\n",
    "ax = sns.histplot(fmriprep_demo_qc, x='Gender')\n",
    "\n",
    "plt.subplot(1, 3, 3)\n",
    "ax = sns.histplot(fmriprep_demo_qc, x='Race/Ethnicity')\n",
    "ax.tick_params(axis='x', labelrotation=90)\n",
    "\n",
    "plt.subplots_adjust(wspace = 0.65)"
   ]
  },
  {
   "cell_type": "code",
   "execution_count": 70,
   "id": "66911fda-64db-48da-9c0d-0a1faecafb93",
   "metadata": {},
   "outputs": [
    {
     "data": {
      "text/html": [
       "<div>\n",
       "<style scoped>\n",
       "    .dataframe tbody tr th:only-of-type {\n",
       "        vertical-align: middle;\n",
       "    }\n",
       "\n",
       "    .dataframe tbody tr th {\n",
       "        vertical-align: top;\n",
       "    }\n",
       "\n",
       "    .dataframe thead th {\n",
       "        text-align: right;\n",
       "    }\n",
       "</style>\n",
       "<table border=\"1\" class=\"dataframe\">\n",
       "  <thead>\n",
       "    <tr style=\"text-align: right;\">\n",
       "      <th></th>\n",
       "      <th>Age</th>\n",
       "    </tr>\n",
       "  </thead>\n",
       "  <tbody>\n",
       "    <tr>\n",
       "      <th>count</th>\n",
       "      <td>64.000000</td>\n",
       "    </tr>\n",
       "    <tr>\n",
       "      <th>mean</th>\n",
       "      <td>20.968750</td>\n",
       "    </tr>\n",
       "    <tr>\n",
       "      <th>std</th>\n",
       "      <td>2.905762</td>\n",
       "    </tr>\n",
       "    <tr>\n",
       "      <th>min</th>\n",
       "      <td>18.000000</td>\n",
       "    </tr>\n",
       "    <tr>\n",
       "      <th>25%</th>\n",
       "      <td>19.000000</td>\n",
       "    </tr>\n",
       "    <tr>\n",
       "      <th>50%</th>\n",
       "      <td>20.000000</td>\n",
       "    </tr>\n",
       "    <tr>\n",
       "      <th>75%</th>\n",
       "      <td>23.000000</td>\n",
       "    </tr>\n",
       "    <tr>\n",
       "      <th>max</th>\n",
       "      <td>30.000000</td>\n",
       "    </tr>\n",
       "  </tbody>\n",
       "</table>\n",
       "</div>"
      ],
      "text/plain": [
       "             Age\n",
       "count  64.000000\n",
       "mean   20.968750\n",
       "std     2.905762\n",
       "min    18.000000\n",
       "25%    19.000000\n",
       "50%    20.000000\n",
       "75%    23.000000\n",
       "max    30.000000"
      ]
     },
     "execution_count": 70,
     "metadata": {},
     "output_type": "execute_result"
    }
   ],
   "source": [
    "fmriprep_demo_qc.describe()"
   ]
  },
  {
   "cell_type": "code",
   "execution_count": 74,
   "id": "54cc3109-4293-4108-926e-32b7a7c1feb0",
   "metadata": {},
   "outputs": [
    {
     "data": {
      "text/plain": [
       "Gender\n",
       "Female       49\n",
       "Male         13\n",
       "Nonbinary     2\n",
       "Name: count, dtype: int64"
      ]
     },
     "execution_count": 74,
     "metadata": {},
     "output_type": "execute_result"
    }
   ],
   "source": [
    "fmriprep_demo_qc['Gender'].value_counts()"
   ]
  },
  {
   "cell_type": "code",
   "execution_count": 77,
   "id": "3c3662b7-7ee9-445d-a5b7-4913ce058ffa",
   "metadata": {},
   "outputs": [
    {
     "data": {
      "text/plain": [
       "Race/Ethnicity\n",
       "White                                        43.7500\n",
       "Asian                                        20.3125\n",
       "Black or African American                    14.0625\n",
       "More than one race                            7.8125\n",
       "Hispanic or Latino                            7.8125\n",
       "Other, Unknown or not reported                4.6875\n",
       "Native Hawaiian or Other Pacific Islander     1.5625\n",
       "Name: count, dtype: float64"
      ]
     },
     "execution_count": 77,
     "metadata": {},
     "output_type": "execute_result"
    }
   ],
   "source": [
    "fmriprep_demo_qc['Race/Ethnicity'].value_counts() / 64 * 100"
   ]
  },
  {
   "cell_type": "markdown",
   "id": "ea7bd2e2",
   "metadata": {},
   "source": [
    "## Export \"Good\" MRI QC Participant and Run Info"
   ]
  },
  {
   "cell_type": "code",
   "execution_count": 35,
   "id": "da2d62bf",
   "metadata": {},
   "outputs": [],
   "source": [
    "mriqc_melt_good[['participant_id','Run']].to_csv(proj_dir+'derivatives/participants-qc.csv', \n",
    "                                                 index=False)"
   ]
  }
 ],
 "metadata": {
  "kernelspec": {
   "display_name": "Python 3 (ipykernel)",
   "language": "python",
   "name": "python3"
  },
  "language_info": {
   "codemirror_mode": {
    "name": "ipython",
    "version": 3
   },
   "file_extension": ".py",
   "mimetype": "text/x-python",
   "name": "python",
   "nbconvert_exporter": "python",
   "pygments_lexer": "ipython3",
   "version": "3.11.5"
  }
 },
 "nbformat": 4,
 "nbformat_minor": 5
}
