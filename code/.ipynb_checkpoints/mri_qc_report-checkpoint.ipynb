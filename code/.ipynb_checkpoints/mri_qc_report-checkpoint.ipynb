{
 "cells": [
  {
   "cell_type": "markdown",
   "id": "e849d3dd-850e-46a8-b21b-35eccda406d8",
   "metadata": {},
   "source": [
    "# MRI QC Report\n",
    "\n",
    "**Author**: Haroon Popal"
   ]
  },
  {
   "cell_type": "markdown",
   "id": "c0143a78-6a9d-4f37-afb3-4d972e9776f5",
   "metadata": {},
   "source": [
    "This notebook will create the **participants.tsv** file in the BIDS format which will include the subject ID and demographic information for all participants with fmriprep data. The notebook will also create a second list of participants and their run data, **participants_good_SR.csv**, for the social reward task that meets quality control thresholds. Participants may be exluced for excessive motion and/or poor MRI run quality, or if there were issues with their task run data. "
   ]
  },
  {
   "cell_type": "code",
   "execution_count": 1,
   "id": "b9be1a58-d66b-413b-a3c8-dd2bab7cdf47",
   "metadata": {},
   "outputs": [],
   "source": [
    "import os\n",
    "import sys\n",
    "import glob\n",
    "import pandas as pd\n",
    "import numpy as np\n",
    "from datetime import datetime, date\n",
    "\n",
    "import seaborn as sns\n",
    "import matplotlib.pyplot as plt"
   ]
  },
  {
   "cell_type": "code",
   "execution_count": 2,
   "id": "0986a6bd-28dc-461b-852c-2b32dc7b1724",
   "metadata": {},
   "outputs": [],
   "source": [
    "proj_dir = '/Users/hpopal/Google Drive/My Drive/dscn_lab/projects/net/'\n",
    "\n",
    "os.chdir(proj_dir)"
   ]
  },
  {
   "cell_type": "markdown",
   "id": "21de697f",
   "metadata": {},
   "source": [
    "# BIDS Participants List"
   ]
  },
  {
   "cell_type": "markdown",
   "id": "c8a344be",
   "metadata": {},
   "source": [
    "## Import QC spreadsheet\n",
    "This spreadsheet is derived from the [SCN fMRI Master Log](https://docs.google.com/spreadsheets/d/1-MOW372sO0g1y9cKl1_GkhMunp0lgdst11etN7qmZvU/edit#gid=158950615) QC tab and contains information on all participants who were scanned, and the quality control reading each of their runs."
   ]
  },
  {
   "cell_type": "code",
   "execution_count": 8,
   "id": "79d5a472-113d-4a11-ae81-e96dc16a37a7",
   "metadata": {},
   "outputs": [
    {
     "data": {
      "text/html": [
       "<div>\n",
       "<style scoped>\n",
       "    .dataframe tbody tr th:only-of-type {\n",
       "        vertical-align: middle;\n",
       "    }\n",
       "\n",
       "    .dataframe tbody tr th {\n",
       "        vertical-align: top;\n",
       "    }\n",
       "\n",
       "    .dataframe thead th {\n",
       "        text-align: right;\n",
       "    }\n",
       "</style>\n",
       "<table border=\"1\" class=\"dataframe\">\n",
       "  <thead>\n",
       "    <tr style=\"text-align: right;\">\n",
       "      <th></th>\n",
       "      <th>Subject_ID</th>\n",
       "      <th>Run</th>\n",
       "      <th>MaxFD</th>\n",
       "      <th>MeanFD</th>\n",
       "      <th>SdFD</th>\n",
       "      <th>CensorPercent</th>\n",
       "      <th>Quality</th>\n",
       "      <th>Cerebellum</th>\n",
       "      <th>Notes</th>\n",
       "    </tr>\n",
       "  </thead>\n",
       "  <tbody>\n",
       "    <tr>\n",
       "      <th>0</th>\n",
       "      <td>sub-NET011</td>\n",
       "      <td>T1</td>\n",
       "      <td>NaN</td>\n",
       "      <td>NaN</td>\n",
       "      <td>NaN</td>\n",
       "      <td>NaN</td>\n",
       "      <td>good</td>\n",
       "      <td>yes</td>\n",
       "      <td>NaN</td>\n",
       "    </tr>\n",
       "    <tr>\n",
       "      <th>1</th>\n",
       "      <td>sub-NET011</td>\n",
       "      <td>run-1</td>\n",
       "      <td>0.550616</td>\n",
       "      <td>0.189526</td>\n",
       "      <td>0.079709</td>\n",
       "      <td>0.0</td>\n",
       "      <td>good</td>\n",
       "      <td>yes</td>\n",
       "      <td>frontal intensity</td>\n",
       "    </tr>\n",
       "    <tr>\n",
       "      <th>2</th>\n",
       "      <td>sub-NET011</td>\n",
       "      <td>run-2</td>\n",
       "      <td>0.344154</td>\n",
       "      <td>0.171332</td>\n",
       "      <td>0.072854</td>\n",
       "      <td>0.0</td>\n",
       "      <td>good</td>\n",
       "      <td>yes</td>\n",
       "      <td>frontal intensity</td>\n",
       "    </tr>\n",
       "    <tr>\n",
       "      <th>3</th>\n",
       "      <td>sub-NET011</td>\n",
       "      <td>run-3</td>\n",
       "      <td>0.446952</td>\n",
       "      <td>0.175449</td>\n",
       "      <td>0.069946</td>\n",
       "      <td>0.0</td>\n",
       "      <td>good</td>\n",
       "      <td>yes</td>\n",
       "      <td>frontal intensity</td>\n",
       "    </tr>\n",
       "    <tr>\n",
       "      <th>4</th>\n",
       "      <td>sub-NET011</td>\n",
       "      <td>run-4</td>\n",
       "      <td>0.505895</td>\n",
       "      <td>0.161364</td>\n",
       "      <td>0.073391</td>\n",
       "      <td>0.0</td>\n",
       "      <td>good</td>\n",
       "      <td>yes</td>\n",
       "      <td>frontal intensity</td>\n",
       "    </tr>\n",
       "  </tbody>\n",
       "</table>\n",
       "</div>"
      ],
      "text/plain": [
       "   Subject_ID    Run     MaxFD    MeanFD      SdFD  CensorPercent Quality  \\\n",
       "0  sub-NET011     T1       NaN       NaN       NaN            NaN    good   \n",
       "1  sub-NET011  run-1  0.550616  0.189526  0.079709            0.0    good   \n",
       "2  sub-NET011  run-2  0.344154  0.171332  0.072854            0.0    good   \n",
       "3  sub-NET011  run-3  0.446952  0.175449  0.069946            0.0    good   \n",
       "4  sub-NET011  run-4  0.505895  0.161364  0.073391            0.0    good   \n",
       "\n",
       "  Cerebellum              Notes  \n",
       "0        yes                NaN  \n",
       "1        yes  frontal intensity  \n",
       "2        yes  frontal intensity  \n",
       "3        yes  frontal intensity  \n",
       "4        yes  frontal intensity  "
      ]
     },
     "execution_count": 8,
     "metadata": {},
     "output_type": "execute_result"
    }
   ],
   "source": [
    "mriqc_raw = pd.read_csv(proj_dir+'derivatives/motionsummary_cb.csv')\n",
    "mriqc_raw.head()"
   ]
  },
  {
   "cell_type": "code",
   "execution_count": 13,
   "id": "238b6285",
   "metadata": {},
   "outputs": [],
   "source": [
    "# Pull just the participant IDs\n",
    "#participant_list = [x for x in mriqc_raw.index if str(x).startswith('sub-NET')]\n",
    "participant_list = mriqc_raw['Subject_ID'].unique().tolist()"
   ]
  },
  {
   "cell_type": "markdown",
   "id": "7323145a",
   "metadata": {},
   "source": [
    "## Import Demographic Info"
   ]
  },
  {
   "cell_type": "raw",
   "id": "1c9f1042-d982-4e72-8b64-1535a25f93cb",
   "metadata": {},
   "source": [
    "# Import Redcap demographics info\n",
    "redcap_info = pd.read_csv(glob.glob(os.path.join(proj_dir, 'misc',\n",
    "                                                 'SCONNChildPacket-Id*.csv'))[0])\n",
    "\n",
    "# Identify relevent columns in the Redcap dataframe\n",
    "relv_cols = ['record_id', 'child_gender_lab_entered', 'child_birthday',\n",
    "             'date_of_visit', 'group']\n",
    "\n",
    "redcap_info_fltr = redcap_info[relv_cols]\n",
    "\n",
    "# Capitalize subject name to standardize\n",
    "redcap_info_fltr.loc[:,'record_id'] = redcap_info_fltr['record_id'].str.upper()\n",
    "\n",
    "# Remove records that don't start with project code\n",
    "redcap_info_fltr = redcap_info_fltr[redcap_info_fltr['record_id'].str.startswith('SCN')]\n",
    "\n",
    "redcap_info_fltr.head()"
   ]
  },
  {
   "cell_type": "raw",
   "id": "7d509174-bd56-48ce-90f8-14a35131da3e",
   "metadata": {},
   "source": [
    "# Filter to only capture subjects with fmriprep data\n",
    "\n",
    "# Create a copy of the redcap data\n",
    "fmriprep_demo = redcap_info_fltr.copy()\n",
    "\n",
    "# Rename subject IDs to match fmripre IDs\n",
    "#fmriprep_demo['record_id'] = 'sub-' + fmriprep_demo['record_id']\n",
    "#fmriprep_demo['record_id'] = fmriprep_demo['record_id'].str.replace('_', '', \n",
    "#                                                                    regex=True)\n",
    "\n",
    "# Filter\n",
    "fmriprep_demo = fmriprep_demo[fmriprep_demo['record_id'].isin(participant_list)]\n",
    "\n",
    "# Fill nan with empty strings\n",
    "fmriprep_demo = fmriprep_demo.fillna('')\n",
    "\n",
    "fmriprep_demo.head()"
   ]
  },
  {
   "cell_type": "markdown",
   "id": "309cb8b1",
   "metadata": {},
   "source": [
    "### Calculate age"
   ]
  },
  {
   "cell_type": "raw",
   "id": "2da057a5-1c80-42a8-96ad-102c48d26f8a",
   "metadata": {},
   "source": [
    "fmriprep_demo['age'] = ''\n",
    "\n",
    "for n in fmriprep_demo.index:\n",
    "    # Select the birth date\n",
    "    date_birth_str = fmriprep_demo.loc[n, 'child_birthday']\n",
    "    \n",
    "    if len(date_birth_str.split('/')[-1]) == 2:\n",
    "        date_birth = datetime.strptime(date_birth_str, \n",
    "                                   \"%m/%d/%y\").date()\n",
    "    elif len(date_birth_str.split('/')[-1]) == 4:\n",
    "        date_birth = datetime.strptime(date_birth_str, \n",
    "                                   \"%m/%d/%Y\").date()\n",
    "    else:\n",
    "        continue\n",
    "        \n",
    "        \n",
    "    # Select the birth date\n",
    "    date_study_str = fmriprep_demo.loc[n, 'date_of_visit']    \n",
    "    date_study_str = date_study_str.split(' + ')[0]\n",
    "    \n",
    "    if len(date_study_str.split('/')[-1]) == 2:\n",
    "        date_study = datetime.strptime(date_study_str, \n",
    "                                   \"%m/%d/%y\").date()\n",
    "    elif len(date_study_str.split('/')[-1]) == 4:\n",
    "        date_study = datetime.strptime(date_study_str, \n",
    "                                   \"%m/%d/%Y\").date()\n",
    "    else:\n",
    "        continue\n",
    "    \n",
    "    \n",
    "    \n",
    "    # Subtract to find the age in days and divide by number of days in year\n",
    "    # accounting for leap years\n",
    "    age = (date_study - date_birth).days / 365.25\n",
    "    \n",
    "    # Round and input into demo dataframe\n",
    "    fmriprep_demo.loc[n, 'age'] = round(age, 2)"
   ]
  },
  {
   "cell_type": "raw",
   "id": "e31e025f-b08b-40ac-b07d-66a7c6708010",
   "metadata": {},
   "source": [
    "# Rename columns\n",
    "fmriprep_demo = fmriprep_demo.rename(columns={'record_id': 'participant_id', \n",
    "                                              'child_gender_lab_entered': 'gender'})\n",
    "\n",
    "# Filter for only relevent columns\n",
    "outp_cols = ['participant_id', 'age', 'gender', 'group']\n",
    "\n",
    "fmriprep_demo = fmriprep_demo[outp_cols]"
   ]
  },
  {
   "cell_type": "markdown",
   "id": "4fb4659f",
   "metadata": {},
   "source": [
    "### Visualize Demographics"
   ]
  },
  {
   "cell_type": "raw",
   "id": "f3127d62-db7a-4834-b28d-8ff99f9f99fb",
   "metadata": {},
   "source": [
    "plt.figure(figsize=(10,4))\n",
    "\n",
    "plt.subplot(1, 3, 1)\n",
    "ax = sns.histplot(fmriprep_demo, x='group')\n",
    "\n",
    "plt.subplot(1, 3, 2)\n",
    "sns.histplot(fmriprep_demo, x='age', hue='group', legend=False)\n",
    "\n",
    "plt.subplot(1, 3, 3)\n",
    "ax = sns.histplot(fmriprep_demo, x='gender', hue='group')\n",
    "sns.move_legend(ax, \"upper left\", bbox_to_anchor=(1, 1))\n",
    "plt.subplots_adjust(wspace = 0.65)"
   ]
  },
  {
   "cell_type": "markdown",
   "id": "1df415fa",
   "metadata": {},
   "source": [
    "### Fix participant IDs"
   ]
  },
  {
   "cell_type": "raw",
   "id": "817ca536-3c3a-4153-8100-f8b666b0ccc5",
   "metadata": {},
   "source": [
    "fmriprep_demo['participant_id'] = 'sub-' + fmriprep_demo['participant_id']\n",
    "fmriprep_demo['participant_id'] = fmriprep_demo['participant_id'].str.replace('_', '', \n",
    "                                                                    regex=True)"
   ]
  },
  {
   "cell_type": "markdown",
   "id": "d44ce5fe",
   "metadata": {},
   "source": [
    "## Export General List"
   ]
  },
  {
   "cell_type": "code",
   "execution_count": 15,
   "id": "8024d2de-ee69-4470-babc-01211bf931f4",
   "metadata": {},
   "outputs": [
    {
     "data": {
      "text/html": [
       "<div>\n",
       "<style scoped>\n",
       "    .dataframe tbody tr th:only-of-type {\n",
       "        vertical-align: middle;\n",
       "    }\n",
       "\n",
       "    .dataframe tbody tr th {\n",
       "        vertical-align: top;\n",
       "    }\n",
       "\n",
       "    .dataframe thead th {\n",
       "        text-align: right;\n",
       "    }\n",
       "</style>\n",
       "<table border=\"1\" class=\"dataframe\">\n",
       "  <thead>\n",
       "    <tr style=\"text-align: right;\">\n",
       "      <th></th>\n",
       "      <th>participant_id</th>\n",
       "    </tr>\n",
       "  </thead>\n",
       "  <tbody>\n",
       "    <tr>\n",
       "      <th>0</th>\n",
       "      <td>sub-NET011</td>\n",
       "    </tr>\n",
       "    <tr>\n",
       "      <th>1</th>\n",
       "      <td>sub-NET012</td>\n",
       "    </tr>\n",
       "    <tr>\n",
       "      <th>2</th>\n",
       "      <td>sub-NET014</td>\n",
       "    </tr>\n",
       "    <tr>\n",
       "      <th>3</th>\n",
       "      <td>sub-NET016</td>\n",
       "    </tr>\n",
       "    <tr>\n",
       "      <th>4</th>\n",
       "      <td>sub-NET017</td>\n",
       "    </tr>\n",
       "  </tbody>\n",
       "</table>\n",
       "</div>"
      ],
      "text/plain": [
       "  participant_id\n",
       "0     sub-NET011\n",
       "1     sub-NET012\n",
       "2     sub-NET014\n",
       "3     sub-NET016\n",
       "4     sub-NET017"
      ]
     },
     "execution_count": 15,
     "metadata": {},
     "output_type": "execute_result"
    }
   ],
   "source": [
    "fmriprep_demo = pd.DataFrame(participant_list, columns=['participant_id'])\n",
    "fmriprep_demo.head()"
   ]
  },
  {
   "cell_type": "code",
   "execution_count": 16,
   "id": "341c9c14",
   "metadata": {},
   "outputs": [],
   "source": [
    "fmriprep_demo.to_csv(proj_dir+'/participants.tsv', sep='\\t', \n",
    "                                index=False)"
   ]
  },
  {
   "cell_type": "markdown",
   "id": "a3470e19",
   "metadata": {},
   "source": [
    "***"
   ]
  },
  {
   "cell_type": "markdown",
   "id": "ab646fbd",
   "metadata": {},
   "source": [
    "# Imaging QC\n",
    "\n",
    "This section will create a list of participants which have passed the lab based MRI QC protocols. "
   ]
  },
  {
   "cell_type": "markdown",
   "id": "02e4d9b7",
   "metadata": {},
   "source": [
    "## Import QC Data"
   ]
  },
  {
   "cell_type": "code",
   "execution_count": 22,
   "id": "3ec2a173-0537-4e9e-a6e9-76bf0ddac51f",
   "metadata": {},
   "outputs": [
    {
     "data": {
      "text/html": [
       "<div>\n",
       "<style scoped>\n",
       "    .dataframe tbody tr th:only-of-type {\n",
       "        vertical-align: middle;\n",
       "    }\n",
       "\n",
       "    .dataframe tbody tr th {\n",
       "        vertical-align: top;\n",
       "    }\n",
       "\n",
       "    .dataframe thead th {\n",
       "        text-align: right;\n",
       "    }\n",
       "</style>\n",
       "<table border=\"1\" class=\"dataframe\">\n",
       "  <thead>\n",
       "    <tr style=\"text-align: right;\">\n",
       "      <th></th>\n",
       "      <th>Subject_ID</th>\n",
       "      <th>Run</th>\n",
       "      <th>MaxFD</th>\n",
       "      <th>MeanFD</th>\n",
       "      <th>SdFD</th>\n",
       "      <th>CensorPercent</th>\n",
       "      <th>Quality</th>\n",
       "      <th>Cerebellum</th>\n",
       "      <th>Notes</th>\n",
       "    </tr>\n",
       "  </thead>\n",
       "  <tbody>\n",
       "    <tr>\n",
       "      <th>0</th>\n",
       "      <td>sub-NET011</td>\n",
       "      <td>T1</td>\n",
       "      <td>NaN</td>\n",
       "      <td>NaN</td>\n",
       "      <td>NaN</td>\n",
       "      <td>NaN</td>\n",
       "      <td>good</td>\n",
       "      <td>yes</td>\n",
       "      <td>NaN</td>\n",
       "    </tr>\n",
       "    <tr>\n",
       "      <th>1</th>\n",
       "      <td>sub-NET011</td>\n",
       "      <td>run-1</td>\n",
       "      <td>0.550616</td>\n",
       "      <td>0.189526</td>\n",
       "      <td>0.079709</td>\n",
       "      <td>0.0</td>\n",
       "      <td>good</td>\n",
       "      <td>yes</td>\n",
       "      <td>frontal intensity</td>\n",
       "    </tr>\n",
       "    <tr>\n",
       "      <th>2</th>\n",
       "      <td>sub-NET011</td>\n",
       "      <td>run-2</td>\n",
       "      <td>0.344154</td>\n",
       "      <td>0.171332</td>\n",
       "      <td>0.072854</td>\n",
       "      <td>0.0</td>\n",
       "      <td>good</td>\n",
       "      <td>yes</td>\n",
       "      <td>frontal intensity</td>\n",
       "    </tr>\n",
       "    <tr>\n",
       "      <th>3</th>\n",
       "      <td>sub-NET011</td>\n",
       "      <td>run-3</td>\n",
       "      <td>0.446952</td>\n",
       "      <td>0.175449</td>\n",
       "      <td>0.069946</td>\n",
       "      <td>0.0</td>\n",
       "      <td>good</td>\n",
       "      <td>yes</td>\n",
       "      <td>frontal intensity</td>\n",
       "    </tr>\n",
       "    <tr>\n",
       "      <th>4</th>\n",
       "      <td>sub-NET011</td>\n",
       "      <td>run-4</td>\n",
       "      <td>0.505895</td>\n",
       "      <td>0.161364</td>\n",
       "      <td>0.073391</td>\n",
       "      <td>0.0</td>\n",
       "      <td>good</td>\n",
       "      <td>yes</td>\n",
       "      <td>frontal intensity</td>\n",
       "    </tr>\n",
       "  </tbody>\n",
       "</table>\n",
       "</div>"
      ],
      "text/plain": [
       "   Subject_ID    Run     MaxFD    MeanFD      SdFD  CensorPercent Quality  \\\n",
       "0  sub-NET011     T1       NaN       NaN       NaN            NaN    good   \n",
       "1  sub-NET011  run-1  0.550616  0.189526  0.079709            0.0    good   \n",
       "2  sub-NET011  run-2  0.344154  0.171332  0.072854            0.0    good   \n",
       "3  sub-NET011  run-3  0.446952  0.175449  0.069946            0.0    good   \n",
       "4  sub-NET011  run-4  0.505895  0.161364  0.073391            0.0    good   \n",
       "\n",
       "  Cerebellum              Notes  \n",
       "0        yes                NaN  \n",
       "1        yes  frontal intensity  \n",
       "2        yes  frontal intensity  \n",
       "3        yes  frontal intensity  \n",
       "4        yes  frontal intensity  "
      ]
     },
     "execution_count": 22,
     "metadata": {},
     "output_type": "execute_result"
    }
   ],
   "source": [
    "mriqc_raw.head()"
   ]
  },
  {
   "cell_type": "markdown",
   "id": "a84f1f59",
   "metadata": {},
   "source": [
    "Total number of participants:"
   ]
  },
  {
   "cell_type": "code",
   "execution_count": 21,
   "id": "073a049e",
   "metadata": {},
   "outputs": [
    {
     "data": {
      "text/plain": [
       "64"
      ]
     },
     "execution_count": 21,
     "metadata": {},
     "output_type": "execute_result"
    }
   ],
   "source": [
    "len(participant_list)"
   ]
  },
  {
   "cell_type": "markdown",
   "id": "cda0e39b",
   "metadata": {},
   "source": [
    "## Visualize MRI QC Metadata"
   ]
  },
  {
   "cell_type": "markdown",
   "id": "87555922",
   "metadata": {},
   "source": [
    "### All MRI QC values"
   ]
  },
  {
   "cell_type": "code",
   "execution_count": 24,
   "id": "ff901793-cdc5-480b-840f-5ed4ddb4a9e0",
   "metadata": {},
   "outputs": [
    {
     "data": {
      "text/plain": [
       "<Axes: xlabel='Run,Quality'>"
      ]
     },
     "execution_count": 24,
     "metadata": {},
     "output_type": "execute_result"
    },
    {
     "data": {
      "image/png": "[encoded data removed]",
      "text/plain": [
       "<Figure size 640x480 with 1 Axes>"
      ]
     },
     "metadata": {},
     "output_type": "display_data"
    }
   ],
   "source": [
    "mriqc_raw.groupby('Run')['Quality'].value_counts().plot.bar()"
   ]
  },
  {
   "cell_type": "markdown",
   "id": "cf3266f5",
   "metadata": {},
   "source": [
    "Count the number of participants that are being completly excluded because none of their scan data is usable:"
   ]
  },
  {
   "cell_type": "code",
   "execution_count": 28,
   "id": "0bb4f7de",
   "metadata": {},
   "outputs": [
    {
     "data": {
      "text/plain": [
       "25"
      ]
     },
     "execution_count": 28,
     "metadata": {},
     "output_type": "execute_result"
    }
   ],
   "source": [
    "len(mriqc_raw[mriqc_raw['Quality'] != 'good']['Subject_ID'].unique())"
   ]
  },
  {
   "cell_type": "markdown",
   "id": "e55eab83",
   "metadata": {},
   "source": [
    "### Number of good scans"
   ]
  },
  {
   "cell_type": "code",
   "execution_count": 33,
   "id": "3b5c59ff-e51f-4a32-916b-0ff298355311",
   "metadata": {},
   "outputs": [],
   "source": [
    "mriqc_melt_good = mriqc_raw[mriqc_raw['Quality'] == 'good']\n",
    "mriqc_melt_good = mriqc_melt_good.rename(columns={\"Subject_ID\": \"participant_id\"})"
   ]
  },
  {
   "cell_type": "code",
   "execution_count": 34,
   "id": "e436aa70",
   "metadata": {},
   "outputs": [
    {
     "data": {
      "text/plain": [
       "<Axes: xlabel='Run,Quality'>"
      ]
     },
     "execution_count": 34,
     "metadata": {},
     "output_type": "execute_result"
    },
    {
     "data": {
      "image/png": "[encoded data removed]",
      "text/plain": [
       "<Figure size 640x480 with 1 Axes>"
      ]
     },
     "metadata": {},
     "output_type": "display_data"
    }
   ],
   "source": [
    "mriqc_melt_good.groupby('Run')['Quality'].value_counts().plot.bar()"
   ]
  },
  {
   "cell_type": "markdown",
   "id": "f1d6b580",
   "metadata": {},
   "source": [
    "### Visualize demographics"
   ]
  },
  {
   "cell_type": "raw",
   "id": "9d4a339a-f2aa-4c3f-b363-64d286e8c212",
   "metadata": {},
   "source": [
    "fmriprep_demo_qc = fmriprep_demo[fmriprep_demo['participant_id'].isin(mriqc_melt_good['participant_id'].unique())]\n"
   ]
  },
  {
   "cell_type": "raw",
   "id": "7e0be1db-72f1-4d93-9d45-2e2548a0b336",
   "metadata": {},
   "source": [
    "plt.figure(figsize=(10,4))\n",
    "\n",
    "plt.subplot(1, 3, 1)\n",
    "ax = sns.histplot(fmriprep_demo_qc, x='group')\n",
    "\n",
    "plt.subplot(1, 3, 2)\n",
    "sns.histplot(fmriprep_demo_qc, x='age', hue='group', legend=False)\n",
    "\n",
    "plt.subplot(1, 3, 3)\n",
    "ax = sns.histplot(fmriprep_demo_qc, x='gender', hue='group')\n",
    "sns.move_legend(ax, \"upper left\", bbox_to_anchor=(1, 1))\n",
    "plt.subplots_adjust(wspace = 0.65)"
   ]
  },
  {
   "cell_type": "markdown",
   "id": "ea7bd2e2",
   "metadata": {},
   "source": [
    "## Export \"Good\" MRI QC Participant and Run Info"
   ]
  },
  {
   "cell_type": "code",
   "execution_count": 35,
   "id": "da2d62bf",
   "metadata": {},
   "outputs": [],
   "source": [
    "mriqc_melt_good[['participant_id','Run']].to_csv(proj_dir+'derivatives/participants-qc.csv', \n",
    "                                                 index=False)"
   ]
  },
  {
   "cell_type": "markdown",
   "id": "31b4c441",
   "metadata": {},
   "source": [
    "***\n",
    "\n",
    "# Behavioral QC\n",
    "The task programming had an error which would show the participant incorrect options for their own preferences (e.g. would show \"like animals\", when the participant said they didn't like animals). We will remove participants for which this occurred a lot (more than 5 trial)."
   ]
  }
 ],
 "metadata": {
  "kernelspec": {
   "display_name": "Python 3 (ipykernel)",
   "language": "python",
   "name": "python3"
  },
  "language_info": {
   "codemirror_mode": {
    "name": "ipython",
    "version": 3
   },
   "file_extension": ".py",
   "mimetype": "text/x-python",
   "name": "python",
   "nbconvert_exporter": "python",
   "pygments_lexer": "ipython3",
   "version": "3.11.5"
  }
 },
 "nbformat": 4,
 "nbformat_minor": 5
}
