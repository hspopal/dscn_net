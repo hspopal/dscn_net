{
 "cells": [
  {
   "cell_type": "markdown",
   "id": "497f088d-3d3b-42d4-8620-4036cec8f20e",
   "metadata": {},
   "source": [
    "# Video Transcription and Annotation"
   ]
  },
  {
   "cell_type": "markdown",
   "id": "e8f070f0-6817-468c-8e0d-0cfabe0bb1b5",
   "metadata": {},
   "source": [
    "## Setup"
   ]
  },
  {
   "cell_type": "code",
   "execution_count": 1,
   "id": "01535f84-1325-4e97-b737-7a98d61ffa2b",
   "metadata": {},
   "outputs": [],
   "source": [
    "import os\n",
    "import glob\n",
    "import pandas as pd\n",
    "\n",
    "#from moviepy.editor import *\n",
    "import moviepy.editor as mp\n",
    "\n",
    "import whisper"
   ]
  },
  {
   "cell_type": "markdown",
   "id": "691e9e93-d8de-4a7d-bfc1-b7b78701a445",
   "metadata": {},
   "source": [
    "### Set Directories"
   ]
  },
  {
   "cell_type": "code",
   "execution_count": 2,
   "id": "22dd90ab-3dfa-494c-93af-63366c2c925d",
   "metadata": {},
   "outputs": [],
   "source": [
    "proj_dir = '/Users/hpopal/Google Drive/My Drive/dscn_lab/projects/net/'\n",
    "data_dir = proj_dir+'derivatives/task-naturalistic/stimuli/'\n",
    "outp_dir = proj_dir+'derivatives/speech_analysis/'\n",
    "\n",
    "os.chdir(proj_dir)"
   ]
  },
  {
   "cell_type": "code",
   "execution_count": null,
   "id": "cc5381c4-b67a-4f46-a4b1-9dafd15fd30f",
   "metadata": {},
   "outputs": [],
   "source": []
  },
  {
   "cell_type": "code",
   "execution_count": 152,
   "id": "e8bdf790-8c88-4b78-9c76-0690a01ef3dd",
   "metadata": {},
   "outputs": [],
   "source": [
    "clip_name='partly_cloudy_hd'"
   ]
  },
  {
   "cell_type": "code",
   "execution_count": 153,
   "id": "82712ee2-2fca-4139-b714-516109857f5d",
   "metadata": {},
   "outputs": [],
   "source": [
    "video_clip = mp.VideoFileClip(data_dir+clip_name+'.avi')\n",
    "# Extract the audio from the video clip\n",
    "audio_clip = video_clip.audio"
   ]
  },
  {
   "cell_type": "code",
   "execution_count": 154,
   "id": "5e455f3f-fe05-4807-99fa-ed481cbb75a6",
   "metadata": {},
   "outputs": [
    {
     "data": {
      "text/plain": [
       "29.97002997002997"
      ]
     },
     "execution_count": 154,
     "metadata": {},
     "output_type": "execute_result"
    }
   ],
   "source": [
    "video_clip.fps"
   ]
  },
  {
   "cell_type": "code",
   "execution_count": 158,
   "id": "58157f1d-35b9-4c84-b6c2-93a956aa067a",
   "metadata": {},
   "outputs": [],
   "source": [
    "audio_clip"
   ]
  },
  {
   "cell_type": "code",
   "execution_count": 157,
   "id": "fd843263-6643-4acd-97f8-c7cf87515ed5",
   "metadata": {},
   "outputs": [
    {
     "ename": "AttributeError",
     "evalue": "'NoneType' object has no attribute 'write_audiofile'",
     "output_type": "error",
     "traceback": [
      "\u001b[0;31m---------------------------------------------------------------------------\u001b[0m",
      "\u001b[0;31mAttributeError\u001b[0m                            Traceback (most recent call last)",
      "Cell \u001b[0;32mIn[157], line 5\u001b[0m\n\u001b[1;32m      3\u001b[0m audio_clip \u001b[38;5;241m=\u001b[39m video_clip\u001b[38;5;241m.\u001b[39maudio\n\u001b[1;32m      4\u001b[0m audio_path \u001b[38;5;241m=\u001b[39m outp_dir\u001b[38;5;241m+\u001b[39mclip_name\u001b[38;5;241m+\u001b[39m\u001b[38;5;124m'\u001b[39m\u001b[38;5;124m.wav\u001b[39m\u001b[38;5;124m'\u001b[39m\n\u001b[0;32m----> 5\u001b[0m audio_clip\u001b[38;5;241m.\u001b[39mwrite_audiofile(audio_path, codec\u001b[38;5;241m=\u001b[39m\u001b[38;5;124m'\u001b[39m\u001b[38;5;124mpcm_s16le\u001b[39m\u001b[38;5;124m'\u001b[39m)\n",
      "\u001b[0;31mAttributeError\u001b[0m: 'NoneType' object has no attribute 'write_audiofile'"
     ]
    }
   ],
   "source": [
    "# Extract the audio segment from the video\n",
    "#audio_segment = video_clip.subclip(current_time, current_time + remaining_duration)\n",
    "audio_clip = video_clip.audio\n",
    "audio_path = outp_dir+clip_name+'.wav'\n",
    "audio_clip.write_audiofile(audio_path, codec='pcm_s16le')"
   ]
  },
  {
   "cell_type": "code",
   "execution_count": 7,
   "id": "01bf89bf-69db-4cbe-a6ca-b470be045c71",
   "metadata": {},
   "outputs": [
    {
     "name": "stdout",
     "output_type": "stream",
     "text": [
      " When you look at me, you probably see a guy who has it all. But really, there's a large part of me that's immature and underdeveloped, especially when it comes to women. Every girl I liked growing up rejected me, and because of that, I've grown into a man who is chronically nervous around women. I'm an emotional midget. Now, if someone came to me with this problem, I'd suggest immersion therapy, where you overwhelm yourself with your fear in order to overcome it. So tonight, to inspire you, I'm going to attempt to overcome my fear of the opposite sex by dating not one, but ten women at the same time. Wish me luck. I needed to get ten women to agree to date me, so I thought it'd be easy to start with someone I work with. So, you know how I'm doing the thing on the show where I'm dating, like, ten women at the same time? Yeah. You're in a relationship right now? Yes. Okay. So, sorry, never mind. That's a stupid task. It didn't work, and I knew from experience that women just wouldn't stop and talk to me without an excuse. So, I found one. Excuse me, would you like to try our new blueberry raspberry smoothie? Okay, come on, just one. Would you like to try one of our new raspberry blueberry smoothies? Sure, thanks. I'm just kidding, actually. I don't work here. My name's Nathan. Nice to meet you. I'm just doing this as a way to break the ice and show my personality. I'm just trying to meet people and... Oh, cool. You really don't work here? No. Oh, okay. Okay, can you stop giving out smoothies? I'm just drinking my own smoothie that I bought from here. Oh, that's not what it looks like. But I like drinking my smoothie out of little cups on a tray. That's how I like to drink my smoothie. I need to ask you to move out that way. Okay, well, I think I'm allowed to drink my smoothie wherever I want. You need to move this. Hey! You need to move this. You cannot touch my tray. That is crazy. The smoothie thing was too gimmicky anyways, and it felt the same way when I used a cute dog. Do you like my dog? Say hi. But just when I was ready to quit, it hit me. I had a major girl magnet at my disposal that I was totally ignoring. What are the cameras for? A television crew. It was a crazy idea, but maybe women would date me just for the opportunity to be on TV. I had my solution. I was going to create a fake reality show in which 10 women would vie for the heart of one man. Me. It would be called The Hunk. It took weeks to prepare as we sorted through the countless submissions from women to my online ad. I like her. But pretty soon, we selected the 10 women I would need, hired a host, and rented a mansion. No one knew my show was fake, not even the host, and it was about to begin. I'm Anthony Napoli. Tonight, 10 women will gather in this house to vie for the heart of one man. Will they find love? Will they find their soulmate? I'm Anthony Napoli. This is The Hunk. The Hunk\n"
     ]
    }
   ],
   "source": [
    "model = whisper.load_model(\"small\")\n",
    "result = model.transcribe(audio_path, word_timestamps=True)\n",
    "print(result[\"text\"])"
   ]
  },
  {
   "cell_type": "code",
   "execution_count": 8,
   "id": "95600a60-f568-417d-a314-68f01022aa0e",
   "metadata": {},
   "outputs": [],
   "source": [
    "transcript_ts = pd.DataFrame(columns=['Text','Start_time','End_time'])\n",
    "\n",
    "for idx in range(len(result['segments'])):\n",
    "    transcript_ts.loc[idx, 'Text'] = result['segments'][idx]['text']\n",
    "    transcript_ts.loc[idx, 'Start_time'] = result['segments'][idx]['start']\n",
    "    transcript_ts.loc[idx, 'End_time'] = result['segments'][idx]['end']\n",
    "\n"
   ]
  },
  {
   "cell_type": "code",
   "execution_count": 9,
   "id": "0c51faa8-8d06-453f-9565-ff3f3d4bb811",
   "metadata": {},
   "outputs": [
    {
     "data": {
      "text/html": [
       "<div>\n",
       "<style scoped>\n",
       "    .dataframe tbody tr th:only-of-type {\n",
       "        vertical-align: middle;\n",
       "    }\n",
       "\n",
       "    .dataframe tbody tr th {\n",
       "        vertical-align: top;\n",
       "    }\n",
       "\n",
       "    .dataframe thead th {\n",
       "        text-align: right;\n",
       "    }\n",
       "</style>\n",
       "<table border=\"1\" class=\"dataframe\">\n",
       "  <thead>\n",
       "    <tr style=\"text-align: right;\">\n",
       "      <th></th>\n",
       "      <th>Text</th>\n",
       "      <th>Start_time</th>\n",
       "      <th>End_time</th>\n",
       "    </tr>\n",
       "  </thead>\n",
       "  <tbody>\n",
       "    <tr>\n",
       "      <th>0</th>\n",
       "      <td>When you look at me, you probably see a guy w...</td>\n",
       "      <td>0.0</td>\n",
       "      <td>3.2</td>\n",
       "    </tr>\n",
       "    <tr>\n",
       "      <th>1</th>\n",
       "      <td>But really, there's a large part of me that's...</td>\n",
       "      <td>3.8</td>\n",
       "      <td>8.32</td>\n",
       "    </tr>\n",
       "    <tr>\n",
       "      <th>2</th>\n",
       "      <td>especially when it comes to women.</td>\n",
       "      <td>8.38</td>\n",
       "      <td>10.4</td>\n",
       "    </tr>\n",
       "    <tr>\n",
       "      <th>3</th>\n",
       "      <td>Every girl I liked growing up rejected me,</td>\n",
       "      <td>11.58</td>\n",
       "      <td>14.0</td>\n",
       "    </tr>\n",
       "    <tr>\n",
       "      <th>4</th>\n",
       "      <td>and because of that, I've grown into a man wh...</td>\n",
       "      <td>14.34</td>\n",
       "      <td>18.5</td>\n",
       "    </tr>\n",
       "    <tr>\n",
       "      <th>...</th>\n",
       "      <td>...</td>\n",
       "      <td>...</td>\n",
       "      <td>...</td>\n",
       "    </tr>\n",
       "    <tr>\n",
       "      <th>64</th>\n",
       "      <td>Will they find love?</td>\n",
       "      <td>182.14</td>\n",
       "      <td>183.2</td>\n",
       "    </tr>\n",
       "    <tr>\n",
       "      <th>65</th>\n",
       "      <td>Will they find their soulmate?</td>\n",
       "      <td>183.74</td>\n",
       "      <td>185.18</td>\n",
       "    </tr>\n",
       "    <tr>\n",
       "      <th>66</th>\n",
       "      <td>I'm Anthony Napoli.</td>\n",
       "      <td>185.82</td>\n",
       "      <td>186.84</td>\n",
       "    </tr>\n",
       "    <tr>\n",
       "      <th>67</th>\n",
       "      <td>This is The Hunk.</td>\n",
       "      <td>187.3</td>\n",
       "      <td>188.66</td>\n",
       "    </tr>\n",
       "    <tr>\n",
       "      <th>68</th>\n",
       "      <td>The Hunk</td>\n",
       "      <td>207.16</td>\n",
       "      <td>208.56</td>\n",
       "    </tr>\n",
       "  </tbody>\n",
       "</table>\n",
       "<p>69 rows × 3 columns</p>\n",
       "</div>"
      ],
      "text/plain": [
       "                                                 Text Start_time End_time\n",
       "0    When you look at me, you probably see a guy w...        0.0      3.2\n",
       "1    But really, there's a large part of me that's...        3.8     8.32\n",
       "2                  especially when it comes to women.       8.38     10.4\n",
       "3          Every girl I liked growing up rejected me,      11.58     14.0\n",
       "4    and because of that, I've grown into a man wh...      14.34     18.5\n",
       "..                                                ...        ...      ...\n",
       "64                               Will they find love?     182.14    183.2\n",
       "65                     Will they find their soulmate?     183.74   185.18\n",
       "66                                I'm Anthony Napoli.     185.82   186.84\n",
       "67                                  This is The Hunk.      187.3   188.66\n",
       "68                                           The Hunk     207.16   208.56\n",
       "\n",
       "[69 rows x 3 columns]"
      ]
     },
     "execution_count": 9,
     "metadata": {},
     "output_type": "execute_result"
    }
   ],
   "source": [
    "transcript_ts"
   ]
  },
  {
   "cell_type": "markdown",
   "id": "24f54004-5e51-4daa-9400-638066e1eb93",
   "metadata": {},
   "source": [
    "# Sentiment Analysis"
   ]
  },
  {
   "cell_type": "code",
   "execution_count": 10,
   "id": "fe735bbd-7690-4b31-a40b-c4e342ce58b4",
   "metadata": {},
   "outputs": [],
   "source": [
    "import nltk\n",
    "from nltk.sentiment.vader import SentimentIntensityAnalyzer\n",
    "from nltk.corpus import stopwords\n",
    "from nltk.tokenize import word_tokenize\n",
    "from nltk.stem import WordNetLemmatizer"
   ]
  },
  {
   "cell_type": "code",
   "execution_count": 11,
   "id": "5fa0a4e7-14e2-4f6f-8e07-3b34060af46f",
   "metadata": {
    "jupyter": {
     "source_hidden": true
    }
   },
   "outputs": [
    {
     "name": "stderr",
     "output_type": "stream",
     "text": [
      "[nltk_data] Downloading package vader_lexicon to\n",
      "[nltk_data]     /Users/hpopal/nltk_data...\n",
      "[nltk_data]   Package vader_lexicon is already up-to-date!\n",
      "[nltk_data] Downloading package punkt to /Users/hpopal/nltk_data...\n",
      "[nltk_data]   Package punkt is already up-to-date!\n",
      "[nltk_data] Downloading package punkt_tab to\n",
      "[nltk_data]     /Users/hpopal/nltk_data...\n",
      "[nltk_data]   Package punkt_tab is already up-to-date!\n",
      "[nltk_data] Downloading package stopwords to\n",
      "[nltk_data]     /Users/hpopal/nltk_data...\n",
      "[nltk_data]   Package stopwords is already up-to-date!\n",
      "[nltk_data] Downloading package wordnet to /Users/hpopal/nltk_data...\n",
      "[nltk_data]   Package wordnet is already up-to-date!\n"
     ]
    },
    {
     "data": {
      "text/plain": [
       "True"
      ]
     },
     "execution_count": 11,
     "metadata": {},
     "output_type": "execute_result"
    }
   ],
   "source": [
    "nltk.download('vader_lexicon')\n",
    "nltk.download('punkt')\n",
    "nltk.download('punkt_tab')\n",
    "nltk.download('stopwords')\n",
    "nltk.download('wordnet')"
   ]
  },
  {
   "cell_type": "code",
   "execution_count": 12,
   "id": "efe7c8f7-33d5-4a00-901d-c9d4a5038377",
   "metadata": {},
   "outputs": [],
   "source": [
    "def preprocess(text):\n",
    "    # Lowercase and then tokenize (split into words) the text\n",
    "    tokens = word_tokenize(text.lower())\n",
    "\n",
    "    # Remove stop words (common words with minimal content - mostly grammatical words)\n",
    "    filtered_tokens = [token for token in tokens if token not in stopwords.words('english')]\n",
    "\n",
    "    # Lemmatize the tokens (reduce words to base lemmas - i.e., form found in dictionary)\n",
    "    lemmatizer = WordNetLemmatizer()\n",
    "    lemmatized_tokens = [lemmatizer.lemmatize(token) for token in filtered_tokens]\n",
    "\n",
    "    # Join the tokens back into a string\n",
    "    processed_text = ' '.join(lemmatized_tokens)\n",
    "    return processed_text"
   ]
  },
  {
   "cell_type": "code",
   "execution_count": 13,
   "id": "24dc52a9-3370-401e-a3be-a0b97da950fd",
   "metadata": {},
   "outputs": [],
   "source": [
    "analyzer = SentimentIntensityAnalyzer()\n",
    "def polarity(text):\n",
    "    pol = analyzer.polarity_scores(text)\n",
    "    return pol"
   ]
  },
  {
   "cell_type": "code",
   "execution_count": 159,
   "id": "9950dfd3-9248-41b6-bdff-1d1d1a3e74be",
   "metadata": {},
   "outputs": [
    {
     "name": "stdout",
     "output_type": "stream",
     "text": [
      "The history saving thread hit an unexpected error (OperationalError('attempt to write a readonly database')).History will not be written to the database.\n"
     ]
    },
    {
     "data": {
      "text/plain": [
       "'look , probably see guy .'"
      ]
     },
     "execution_count": 159,
     "metadata": {},
     "output_type": "execute_result"
    }
   ],
   "source": [
    "cleaned_text = preprocess(transcript_ts.loc[0,'Text'])\n",
    "cleaned_text"
   ]
  },
  {
   "cell_type": "code",
   "execution_count": 15,
   "id": "c81346e5-d3ea-459e-b5dc-202d7bb5b953",
   "metadata": {},
   "outputs": [
    {
     "data": {
      "text/plain": [
       "{'neg': 0.0, 'neu': 1.0, 'pos': 0.0, 'compound': 0.0}"
      ]
     },
     "execution_count": 15,
     "metadata": {},
     "output_type": "execute_result"
    }
   ],
   "source": [
    "polarity(cleaned_text)"
   ]
  },
  {
   "cell_type": "code",
   "execution_count": 16,
   "id": "ec9fa02b-8407-4e33-b009-6d36d859b067",
   "metadata": {},
   "outputs": [],
   "source": [
    "for i_row in range(len(transcript_ts)):\n",
    "    cleaned_text = preprocess(transcript_ts.loc[i_row,'Text'])\n",
    "    transcript_ts.loc[i_row,'Text_clean'] = cleaned_text\n",
    "\n",
    "    temp_sent = polarity(cleaned_text)\n",
    "    transcript_ts.loc[i_row,'neg'] = temp_sent['neg']\n",
    "    transcript_ts.loc[i_row,'neu'] = temp_sent['neu']\n",
    "    transcript_ts.loc[i_row,'pos'] = temp_sent['pos']"
   ]
  },
  {
   "cell_type": "code",
   "execution_count": 17,
   "id": "dee0d312-cfae-4222-b31a-db2f32e950c3",
   "metadata": {},
   "outputs": [
    {
     "data": {
      "text/html": [
       "<div>\n",
       "<style scoped>\n",
       "    .dataframe tbody tr th:only-of-type {\n",
       "        vertical-align: middle;\n",
       "    }\n",
       "\n",
       "    .dataframe tbody tr th {\n",
       "        vertical-align: top;\n",
       "    }\n",
       "\n",
       "    .dataframe thead th {\n",
       "        text-align: right;\n",
       "    }\n",
       "</style>\n",
       "<table border=\"1\" class=\"dataframe\">\n",
       "  <thead>\n",
       "    <tr style=\"text-align: right;\">\n",
       "      <th></th>\n",
       "      <th>Text</th>\n",
       "      <th>Start_time</th>\n",
       "      <th>End_time</th>\n",
       "      <th>Text_clean</th>\n",
       "      <th>neg</th>\n",
       "      <th>neu</th>\n",
       "      <th>pos</th>\n",
       "    </tr>\n",
       "  </thead>\n",
       "  <tbody>\n",
       "    <tr>\n",
       "      <th>0</th>\n",
       "      <td>When you look at me, you probably see a guy w...</td>\n",
       "      <td>0.0</td>\n",
       "      <td>3.2</td>\n",
       "      <td>look , probably see guy .</td>\n",
       "      <td>0.000</td>\n",
       "      <td>1.000</td>\n",
       "      <td>0.000</td>\n",
       "    </tr>\n",
       "    <tr>\n",
       "      <th>1</th>\n",
       "      <td>But really, there's a large part of me that's...</td>\n",
       "      <td>3.8</td>\n",
       "      <td>8.32</td>\n",
       "      <td>really , 's large part 's immature underdevelo...</td>\n",
       "      <td>0.000</td>\n",
       "      <td>1.000</td>\n",
       "      <td>0.000</td>\n",
       "    </tr>\n",
       "    <tr>\n",
       "      <th>2</th>\n",
       "      <td>especially when it comes to women.</td>\n",
       "      <td>8.38</td>\n",
       "      <td>10.4</td>\n",
       "      <td>especially come woman .</td>\n",
       "      <td>0.000</td>\n",
       "      <td>1.000</td>\n",
       "      <td>0.000</td>\n",
       "    </tr>\n",
       "    <tr>\n",
       "      <th>3</th>\n",
       "      <td>Every girl I liked growing up rejected me,</td>\n",
       "      <td>11.58</td>\n",
       "      <td>14.0</td>\n",
       "      <td>every girl liked growing rejected ,</td>\n",
       "      <td>0.337</td>\n",
       "      <td>0.204</td>\n",
       "      <td>0.459</td>\n",
       "    </tr>\n",
       "    <tr>\n",
       "      <th>4</th>\n",
       "      <td>and because of that, I've grown into a man wh...</td>\n",
       "      <td>14.34</td>\n",
       "      <td>18.5</td>\n",
       "      <td>, 've grown man chronically nervous around wom...</td>\n",
       "      <td>0.259</td>\n",
       "      <td>0.741</td>\n",
       "      <td>0.000</td>\n",
       "    </tr>\n",
       "  </tbody>\n",
       "</table>\n",
       "</div>"
      ],
      "text/plain": [
       "                                                Text Start_time End_time  \\\n",
       "0   When you look at me, you probably see a guy w...        0.0      3.2   \n",
       "1   But really, there's a large part of me that's...        3.8     8.32   \n",
       "2                 especially when it comes to women.       8.38     10.4   \n",
       "3         Every girl I liked growing up rejected me,      11.58     14.0   \n",
       "4   and because of that, I've grown into a man wh...      14.34     18.5   \n",
       "\n",
       "                                          Text_clean    neg    neu    pos  \n",
       "0                          look , probably see guy .  0.000  1.000  0.000  \n",
       "1  really , 's large part 's immature underdevelo...  0.000  1.000  0.000  \n",
       "2                            especially come woman .  0.000  1.000  0.000  \n",
       "3                every girl liked growing rejected ,  0.337  0.204  0.459  \n",
       "4  , 've grown man chronically nervous around wom...  0.259  0.741  0.000  "
      ]
     },
     "execution_count": 17,
     "metadata": {},
     "output_type": "execute_result"
    }
   ],
   "source": [
    "transcript_ts.head()"
   ]
  },
  {
   "cell_type": "markdown",
   "id": "98e872eb-59bd-4314-ab11-60282c63c359",
   "metadata": {},
   "source": [
    "# Create Regressors\n",
    "Translate features of interest in to regressors with a value for each TR. This can be used to correlate with the reverse correlation significant activations output."
   ]
  },
  {
   "cell_type": "code",
   "execution_count": 21,
   "id": "96a0b176-f833-4d5d-971c-dc02f5e1bf85",
   "metadata": {},
   "outputs": [],
   "source": [
    "from nilearn.glm.first_level import compute_regressor\n",
    "import numpy as np"
   ]
  },
  {
   "cell_type": "code",
   "execution_count": 22,
   "id": "fe71b9ac-4a5c-41b9-8d98-83c3820e70cf",
   "metadata": {},
   "outputs": [],
   "source": [
    "tr = 1.25  # repetition time is 1 second\n",
    "n_scans = 476  # the acquisition comprises 128 scans\n",
    "frame_times = np.arange(n_scans) * tr "
   ]
  },
  {
   "cell_type": "code",
   "execution_count": 23,
   "id": "404d3dd3-da78-42e3-92c9-e28499e8faf6",
   "metadata": {},
   "outputs": [
    {
     "data": {
      "text/html": [
       "<div>\n",
       "<style scoped>\n",
       "    .dataframe tbody tr th:only-of-type {\n",
       "        vertical-align: middle;\n",
       "    }\n",
       "\n",
       "    .dataframe tbody tr th {\n",
       "        vertical-align: top;\n",
       "    }\n",
       "\n",
       "    .dataframe thead th {\n",
       "        text-align: right;\n",
       "    }\n",
       "</style>\n",
       "<table border=\"1\" class=\"dataframe\">\n",
       "  <thead>\n",
       "    <tr style=\"text-align: right;\">\n",
       "      <th></th>\n",
       "      <th>neg</th>\n",
       "      <th>neu</th>\n",
       "      <th>pos</th>\n",
       "    </tr>\n",
       "  </thead>\n",
       "  <tbody>\n",
       "    <tr>\n",
       "      <th>0.00</th>\n",
       "      <td>0.000000</td>\n",
       "      <td>0.000000</td>\n",
       "      <td>0.000000</td>\n",
       "    </tr>\n",
       "    <tr>\n",
       "      <th>1.25</th>\n",
       "      <td>0.000000</td>\n",
       "      <td>0.002107</td>\n",
       "      <td>0.000000</td>\n",
       "    </tr>\n",
       "    <tr>\n",
       "      <th>2.50</th>\n",
       "      <td>0.000000</td>\n",
       "      <td>0.049596</td>\n",
       "      <td>0.000000</td>\n",
       "    </tr>\n",
       "    <tr>\n",
       "      <th>3.75</th>\n",
       "      <td>0.000000</td>\n",
       "      <td>0.210905</td>\n",
       "      <td>0.000000</td>\n",
       "    </tr>\n",
       "    <tr>\n",
       "      <th>5.00</th>\n",
       "      <td>0.000000</td>\n",
       "      <td>0.448752</td>\n",
       "      <td>0.000000</td>\n",
       "    </tr>\n",
       "    <tr>\n",
       "      <th>6.25</th>\n",
       "      <td>0.000000</td>\n",
       "      <td>0.651059</td>\n",
       "      <td>0.000000</td>\n",
       "    </tr>\n",
       "    <tr>\n",
       "      <th>7.50</th>\n",
       "      <td>0.000000</td>\n",
       "      <td>0.796770</td>\n",
       "      <td>0.000000</td>\n",
       "    </tr>\n",
       "    <tr>\n",
       "      <th>8.75</th>\n",
       "      <td>0.000000</td>\n",
       "      <td>0.912842</td>\n",
       "      <td>0.000000</td>\n",
       "    </tr>\n",
       "    <tr>\n",
       "      <th>10.00</th>\n",
       "      <td>0.000000</td>\n",
       "      <td>1.003534</td>\n",
       "      <td>0.000000</td>\n",
       "    </tr>\n",
       "    <tr>\n",
       "      <th>11.25</th>\n",
       "      <td>0.000000</td>\n",
       "      <td>1.059920</td>\n",
       "      <td>0.000000</td>\n",
       "    </tr>\n",
       "    <tr>\n",
       "      <th>12.50</th>\n",
       "      <td>0.000130</td>\n",
       "      <td>1.064817</td>\n",
       "      <td>0.000176</td>\n",
       "    </tr>\n",
       "    <tr>\n",
       "      <th>13.75</th>\n",
       "      <td>0.008950</td>\n",
       "      <td>0.958728</td>\n",
       "      <td>0.012190</td>\n",
       "    </tr>\n",
       "    <tr>\n",
       "      <th>15.00</th>\n",
       "      <td>0.051655</td>\n",
       "      <td>0.754138</td>\n",
       "      <td>0.070333</td>\n",
       "    </tr>\n",
       "    <tr>\n",
       "      <th>16.25</th>\n",
       "      <td>0.123141</td>\n",
       "      <td>0.536964</td>\n",
       "      <td>0.162266</td>\n",
       "    </tr>\n",
       "    <tr>\n",
       "      <th>17.50</th>\n",
       "      <td>0.190731</td>\n",
       "      <td>0.404774</td>\n",
       "      <td>0.217995</td>\n",
       "    </tr>\n",
       "    <tr>\n",
       "      <th>18.75</th>\n",
       "      <td>0.239494</td>\n",
       "      <td>0.393774</td>\n",
       "      <td>0.208245</td>\n",
       "    </tr>\n",
       "    <tr>\n",
       "      <th>20.00</th>\n",
       "      <td>0.268785</td>\n",
       "      <td>0.457739</td>\n",
       "      <td>0.158294</td>\n",
       "    </tr>\n",
       "    <tr>\n",
       "      <th>21.25</th>\n",
       "      <td>0.268462</td>\n",
       "      <td>0.508438</td>\n",
       "      <td>0.109498</td>\n",
       "    </tr>\n",
       "    <tr>\n",
       "      <th>22.50</th>\n",
       "      <td>0.228502</td>\n",
       "      <td>0.502375</td>\n",
       "      <td>0.102950</td>\n",
       "    </tr>\n",
       "    <tr>\n",
       "      <th>23.75</th>\n",
       "      <td>0.174847</td>\n",
       "      <td>0.456088</td>\n",
       "      <td>0.116532</td>\n",
       "    </tr>\n",
       "  </tbody>\n",
       "</table>\n",
       "</div>"
      ],
      "text/plain": [
       "            neg       neu       pos\n",
       "0.00   0.000000  0.000000  0.000000\n",
       "1.25   0.000000  0.002107  0.000000\n",
       "2.50   0.000000  0.049596  0.000000\n",
       "3.75   0.000000  0.210905  0.000000\n",
       "5.00   0.000000  0.448752  0.000000\n",
       "6.25   0.000000  0.651059  0.000000\n",
       "7.50   0.000000  0.796770  0.000000\n",
       "8.75   0.000000  0.912842  0.000000\n",
       "10.00  0.000000  1.003534  0.000000\n",
       "11.25  0.000000  1.059920  0.000000\n",
       "12.50  0.000130  1.064817  0.000176\n",
       "13.75  0.008950  0.958728  0.012190\n",
       "15.00  0.051655  0.754138  0.070333\n",
       "16.25  0.123141  0.536964  0.162266\n",
       "17.50  0.190731  0.404774  0.217995\n",
       "18.75  0.239494  0.393774  0.208245\n",
       "20.00  0.268785  0.457739  0.158294\n",
       "21.25  0.268462  0.508438  0.109498\n",
       "22.50  0.228502  0.502375  0.102950\n",
       "23.75  0.174847  0.456088  0.116532"
      ]
     },
     "execution_count": 23,
     "metadata": {},
     "output_type": "execute_result"
    }
   ],
   "source": [
    "\n",
    "\n",
    "# Make onsets like file\n",
    "events = pd.DataFrame(columns=['trial_type', 'onset', 'duration'])\n",
    "\n",
    "events['trial_type'] = transcript_ts['Text']\n",
    "events['onset'] = pd.to_numeric(transcript_ts['Start_time'])\n",
    "events['duration'] = pd.to_numeric(transcript_ts['End_time'] - transcript_ts['Start_time'])\n",
    "\n",
    "\n",
    "# Make empty dataframe for feature regressors\n",
    "features_df = pd.DataFrame(index = frame_times)\n",
    "\n",
    "features = ['neg','neu','pos']\n",
    "\n",
    "for feat in features:\n",
    "    events[feat] = pd.to_numeric(transcript_ts[feat])\n",
    "\n",
    "    temp_dm = events[['onset','duration',feat]].to_numpy()\n",
    "    signal_feat, _labels = compute_regressor(temp_dm.T, 'spm', \n",
    "                                            frame_times, con_id=feat)\n",
    "\n",
    "    features_df[feat] = signal_feat\n",
    "    \n",
    "features_df.head(20)"
   ]
  },
  {
   "cell_type": "code",
   "execution_count": 24,
   "id": "d3d05510-407e-46b2-a4af-4d0356411176",
   "metadata": {},
   "outputs": [
    {
     "data": {
      "text/plain": [
       "<Axes: >"
      ]
     },
     "execution_count": 24,
     "metadata": {},
     "output_type": "execute_result"
    },
    {
     "data": {
      "image/png": "[encoded data removed]",
      "text/plain": [
       "<Figure size 640x480 with 2 Axes>"
      ]
     },
     "metadata": {},
     "output_type": "display_data"
    }
   ],
   "source": [
    "import seaborn as sns\n",
    "sns.heatmap(features_df)"
   ]
  },
  {
   "cell_type": "code",
   "execution_count": null,
   "id": "b7cfc89a-3db5-4809-af9d-cd6ba4521537",
   "metadata": {},
   "outputs": [],
   "source": [
    "# Create Time Series Regressors\n",
    "from nilearn.glm.first_level import compute_regressor\n",
    "\n",
    "\n",
    "# Set scan specific parameters\n",
    "tr = args.TR\n",
    "n_scans = args.Frames\n",
    "frame_times = np.arange(n_scans) * tr \n",
    "\n",
    "\n",
    "# Make onsets like file\n",
    "events = pd.DataFrame(columns=['trial_type', 'onset', 'duration'])\n",
    "\n",
    "events['trial_type'] = transcript_ts['Text']\n",
    "events['onset'] = pd.to_numeric(transcript_ts['Start_time'])\n",
    "events['duration'] = pd.to_numeric(transcript_ts['End_time'] - transcript_ts['Start_time'])\n",
    "\n",
    "\n",
    "# Make empty dataframe for feature regressors\n",
    "features_df = pd.DataFrame(index = frame_times)\n",
    "\n",
    "features = ['neg','neu','pos']\n",
    "\n",
    "for feat in features:\n",
    "    events[feat] = pd.to_numeric(transcript_ts[feat])\n",
    "\n",
    "    temp_dm = events[['onset','duration',feat]].to_numpy()\n",
    "    signal_feat, _labels = compute_regressor(temp_dm.T, 'spm', \n",
    "                                            frame_times, con_id=feat)\n",
    "\n",
    "    features_df[feat] = signal_feat\n",
    "\n",
    "\n",
    "# Export\n",
    "features_df.to_csv(outp_dir+'annotations/'+clip_name+'_annotations-fmri.csv')"
   ]
  }
 ],
 "metadata": {
  "kernelspec": {
   "display_name": "Python 3 (ipykernel)",
   "language": "python",
   "name": "python3"
  },
  "language_info": {
   "codemirror_mode": {
    "name": "ipython",
    "version": 3
   },
   "file_extension": ".py",
   "mimetype": "text/x-python",
   "name": "python",
   "nbconvert_exporter": "python",
   "pygments_lexer": "ipython3",
   "version": "3.11.5"
  }
 },
 "nbformat": 4,
 "nbformat_minor": 5
}
